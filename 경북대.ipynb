{
  "nbformat": 4,
  "nbformat_minor": 0,
  "metadata": {
    "colab": {
      "provenance": []
    },
    "kernelspec": {
      "name": "python3",
      "display_name": "Python 3"
    },
    "language_info": {
      "name": "python"
    }
  },
  "cells": [
    {
      "cell_type": "code",
      "source": [
        "!pip install playwright"
      ],
      "metadata": {
        "colab": {
          "base_uri": "https://localhost:8080/"
        },
        "id": "uxeHCHhCqex8",
        "outputId": "60247143-0a07-4cff-d73a-427b67edeb25"
      },
      "execution_count": null,
      "outputs": [
        {
          "output_type": "stream",
          "name": "stdout",
          "text": [
            "Collecting playwright\n",
            "  Downloading playwright-1.49.1-py3-none-manylinux1_x86_64.whl.metadata (3.5 kB)\n",
            "Requirement already satisfied: greenlet==3.1.1 in /usr/local/lib/python3.11/dist-packages (from playwright) (3.1.1)\n",
            "Collecting pyee==12.0.0 (from playwright)\n",
            "  Downloading pyee-12.0.0-py3-none-any.whl.metadata (2.8 kB)\n",
            "Requirement already satisfied: typing-extensions in /usr/local/lib/python3.11/dist-packages (from pyee==12.0.0->playwright) (4.12.2)\n",
            "Downloading playwright-1.49.1-py3-none-manylinux1_x86_64.whl (44.2 MB)\n",
            "\u001b[2K   \u001b[90m━━━━━━━━━━━━━━━━━━━━━━━━━━━━━━━━━━━━━━━━\u001b[0m \u001b[32m44.2/44.2 MB\u001b[0m \u001b[31m17.4 MB/s\u001b[0m eta \u001b[36m0:00:00\u001b[0m\n",
            "\u001b[?25hDownloading pyee-12.0.0-py3-none-any.whl (14 kB)\n",
            "Installing collected packages: pyee, playwright\n",
            "Successfully installed playwright-1.49.1 pyee-12.0.0\n"
          ]
        }
      ]
    },
    {
      "cell_type": "code",
      "source": [
        "!playwright install\n"
      ],
      "metadata": {
        "colab": {
          "base_uri": "https://localhost:8080/"
        },
        "id": "C3E8rkvsqeiJ",
        "outputId": "65fba6ac-211d-410e-f560-d656467ab849"
      },
      "execution_count": null,
      "outputs": [
        {
          "output_type": "stream",
          "name": "stdout",
          "text": [
            "Downloading Chromium 131.0.6778.33 (playwright build v1148)\u001b[2m from https://playwright.azureedge.net/builds/chromium/1148/chromium-linux.zip\u001b[22m\n",
            "\u001b[1G161.3 MiB [] 0% 0.0s\u001b[0K\u001b[1G161.3 MiB [] 0% 9.7s\u001b[0K\u001b[1G161.3 MiB [] 0% 6.1s\u001b[0K\u001b[1G161.3 MiB [] 1% 4.7s\u001b[0K\u001b[1G161.3 MiB [] 1% 4.3s\u001b[0K\u001b[1G161.3 MiB [] 1% 4.1s\u001b[0K\u001b[1G161.3 MiB [] 2% 4.0s\u001b[0K\u001b[1G161.3 MiB [] 2% 3.8s\u001b[0K\u001b[1G161.3 MiB [] 3% 3.9s\u001b[0K\u001b[1G161.3 MiB [] 3% 3.8s\u001b[0K\u001b[1G161.3 MiB [] 4% 3.4s\u001b[0K\u001b[1G161.3 MiB [] 4% 3.5s\u001b[0K\u001b[1G161.3 MiB [] 5% 3.5s\u001b[0K\u001b[1G161.3 MiB [] 6% 3.5s\u001b[0K\u001b[1G161.3 MiB [] 6% 3.8s\u001b[0K\u001b[1G161.3 MiB [] 6% 4.0s\u001b[0K\u001b[1G161.3 MiB [] 7% 4.2s\u001b[0K\u001b[1G161.3 MiB [] 7% 4.1s\u001b[0K\u001b[1G161.3 MiB [] 8% 3.9s\u001b[0K\u001b[1G161.3 MiB [] 9% 3.8s\u001b[0K\u001b[1G161.3 MiB [] 9% 3.9s\u001b[0K\u001b[1G161.3 MiB [] 10% 3.7s\u001b[0K\u001b[1G161.3 MiB [] 10% 3.8s\u001b[0K\u001b[1G161.3 MiB [] 11% 3.7s\u001b[0K\u001b[1G161.3 MiB [] 12% 3.6s\u001b[0K\u001b[1G161.3 MiB [] 12% 3.4s\u001b[0K\u001b[1G161.3 MiB [] 13% 3.3s\u001b[0K\u001b[1G161.3 MiB [] 14% 3.2s\u001b[0K\u001b[1G161.3 MiB [] 14% 3.4s\u001b[0K\u001b[1G161.3 MiB [] 15% 3.3s\u001b[0K\u001b[1G161.3 MiB [] 15% 3.4s\u001b[0K\u001b[1G161.3 MiB [] 16% 3.3s\u001b[0K\u001b[1G161.3 MiB [] 17% 3.2s\u001b[0K\u001b[1G161.3 MiB [] 18% 3.1s\u001b[0K\u001b[1G161.3 MiB [] 18% 3.0s\u001b[0K\u001b[1G161.3 MiB [] 19% 2.9s\u001b[0K\u001b[1G161.3 MiB [] 20% 2.9s\u001b[0K\u001b[1G161.3 MiB [] 21% 2.8s\u001b[0K\u001b[1G161.3 MiB [] 21% 2.7s\u001b[0K\u001b[1G161.3 MiB [] 22% 2.7s\u001b[0K\u001b[1G161.3 MiB [] 23% 2.7s\u001b[0K\u001b[1G161.3 MiB [] 24% 2.6s\u001b[0K\u001b[1G161.3 MiB [] 25% 2.6s\u001b[0K\u001b[1G161.3 MiB [] 25% 2.5s\u001b[0K\u001b[1G161.3 MiB [] 26% 2.5s\u001b[0K\u001b[1G161.3 MiB [] 27% 2.4s\u001b[0K\u001b[1G161.3 MiB [] 28% 2.3s\u001b[0K\u001b[1G161.3 MiB [] 29% 2.3s\u001b[0K\u001b[1G161.3 MiB [] 29% 2.4s\u001b[0K\u001b[1G161.3 MiB [] 30% 2.4s\u001b[0K\u001b[1G161.3 MiB [] 31% 2.3s\u001b[0K\u001b[1G161.3 MiB [] 32% 2.2s\u001b[0K\u001b[1G161.3 MiB [] 33% 2.2s\u001b[0K\u001b[1G161.3 MiB [] 34% 2.1s\u001b[0K\u001b[1G161.3 MiB [] 35% 2.0s\u001b[0K\u001b[1G161.3 MiB [] 36% 2.0s\u001b[0K\u001b[1G161.3 MiB [] 37% 1.9s\u001b[0K\u001b[1G161.3 MiB [] 38% 1.9s\u001b[0K\u001b[1G161.3 MiB [] 39% 1.8s\u001b[0K\u001b[1G161.3 MiB [] 40% 1.8s\u001b[0K\u001b[1G161.3 MiB [] 41% 1.7s\u001b[0K\u001b[1G161.3 MiB [] 42% 1.7s\u001b[0K\u001b[1G161.3 MiB [] 43% 1.6s\u001b[0K\u001b[1G161.3 MiB [] 44% 1.6s\u001b[0K\u001b[1G161.3 MiB [] 45% 1.6s\u001b[0K\u001b[1G161.3 MiB [] 45% 1.5s\u001b[0K\u001b[1G161.3 MiB [] 46% 1.5s\u001b[0K\u001b[1G161.3 MiB [] 47% 1.5s\u001b[0K\u001b[1G161.3 MiB [] 48% 1.4s\u001b[0K\u001b[1G161.3 MiB [] 49% 1.4s\u001b[0K\u001b[1G161.3 MiB [] 50% 1.4s\u001b[0K\u001b[1G161.3 MiB [] 51% 1.3s\u001b[0K\u001b[1G161.3 MiB [] 52% 1.3s\u001b[0K\u001b[1G161.3 MiB [] 53% 1.2s\u001b[0K\u001b[1G161.3 MiB [] 55% 1.2s\u001b[0K\u001b[1G161.3 MiB [] 56% 1.2s\u001b[0K\u001b[1G161.3 MiB [] 57% 1.2s\u001b[0K\u001b[1G161.3 MiB [] 57% 1.1s\u001b[0K\u001b[1G161.3 MiB [] 58% 1.1s\u001b[0K\u001b[1G161.3 MiB [] 59% 1.1s\u001b[0K\u001b[1G161.3 MiB [] 60% 1.1s\u001b[0K\u001b[1G161.3 MiB [] 61% 1.1s\u001b[0K\u001b[1G161.3 MiB [] 62% 1.1s\u001b[0K\u001b[1G161.3 MiB [] 63% 1.1s\u001b[0K\u001b[1G161.3 MiB [] 64% 1.1s\u001b[0K\u001b[1G161.3 MiB [] 64% 1.0s\u001b[0K\u001b[1G161.3 MiB [] 65% 1.0s\u001b[0K\u001b[1G161.3 MiB [] 66% 1.0s\u001b[0K\u001b[1G161.3 MiB [] 67% 1.0s\u001b[0K\u001b[1G161.3 MiB [] 68% 0.9s\u001b[0K\u001b[1G161.3 MiB [] 69% 0.9s\u001b[0K\u001b[1G161.3 MiB [] 70% 0.9s\u001b[0K\u001b[1G161.3 MiB [] 71% 0.8s\u001b[0K\u001b[1G161.3 MiB [] 72% 0.8s\u001b[0K\u001b[1G161.3 MiB [] 73% 0.8s\u001b[0K\u001b[1G161.3 MiB [] 74% 0.7s\u001b[0K\u001b[1G161.3 MiB [] 75% 0.7s\u001b[0K\u001b[1G161.3 MiB [] 76% 0.7s\u001b[0K\u001b[1G161.3 MiB [] 77% 0.6s\u001b[0K\u001b[1G161.3 MiB [] 78% 0.6s\u001b[0K\u001b[1G161.3 MiB [] 79% 0.6s\u001b[0K\u001b[1G161.3 MiB [] 80% 0.6s\u001b[0K\u001b[1G161.3 MiB [] 80% 0.5s\u001b[0K\u001b[1G161.3 MiB [] 81% 0.5s\u001b[0K\u001b[1G161.3 MiB [] 82% 0.5s\u001b[0K\u001b[1G161.3 MiB [] 83% 0.5s\u001b[0K\u001b[1G161.3 MiB [] 84% 0.4s\u001b[0K\u001b[1G161.3 MiB [] 85% 0.4s\u001b[0K\u001b[1G161.3 MiB [] 86% 0.4s\u001b[0K\u001b[1G161.3 MiB [] 87% 0.4s\u001b[0K\u001b[1G161.3 MiB [] 87% 0.3s\u001b[0K\u001b[1G161.3 MiB [] 88% 0.3s\u001b[0K\u001b[1G161.3 MiB [] 89% 0.3s\u001b[0K\u001b[1G161.3 MiB [] 90% 0.3s\u001b[0K\u001b[1G161.3 MiB [] 90% 0.2s\u001b[0K\u001b[1G161.3 MiB [] 91% 0.2s\u001b[0K\u001b[1G161.3 MiB [] 92% 0.2s\u001b[0K\u001b[1G161.3 MiB [] 93% 0.2s\u001b[0K\u001b[1G161.3 MiB [] 94% 0.2s\u001b[0K\u001b[1G161.3 MiB [] 95% 0.1s\u001b[0K\u001b[1G161.3 MiB [] 96% 0.1s\u001b[0K\u001b[1G161.3 MiB [] 97% 0.1s\u001b[0K\u001b[1G161.3 MiB [] 98% 0.0s\u001b[0K\u001b[1G161.3 MiB [] 99% 0.0s\u001b[0K\u001b[1G161.3 MiB [] 100% 0.0s\u001b[0K\n",
            "Chromium 131.0.6778.33 (playwright build v1148) downloaded to /root/.cache/ms-playwright/chromium-1148\n",
            "Downloading Chromium Headless Shell 131.0.6778.33 (playwright build v1148)\u001b[2m from https://playwright.azureedge.net/builds/chromium/1148/chromium-headless-shell-linux.zip\u001b[22m\n",
            "\u001b[1G100.9 MiB [] 0% 0.0s\u001b[0K\u001b[1G100.9 MiB [] 0% 3.3s\u001b[0K\u001b[1G100.9 MiB [] 1% 1.8s\u001b[0K\u001b[1G100.9 MiB [] 3% 1.5s\u001b[0K\u001b[1G100.9 MiB [] 4% 1.3s\u001b[0K\u001b[1G100.9 MiB [] 6% 1.2s\u001b[0K\u001b[1G100.9 MiB [] 7% 1.1s\u001b[0K\u001b[1G100.9 MiB [] 9% 1.1s\u001b[0K\u001b[1G100.9 MiB [] 9% 1.2s\u001b[0K\u001b[1G100.9 MiB [] 11% 1.1s\u001b[0K\u001b[1G100.9 MiB [] 13% 1.1s\u001b[0K\u001b[1G100.9 MiB [] 14% 1.0s\u001b[0K\u001b[1G100.9 MiB [] 15% 1.0s\u001b[0K\u001b[1G100.9 MiB [] 17% 1.0s\u001b[0K\u001b[1G100.9 MiB [] 18% 1.0s\u001b[0K\u001b[1G100.9 MiB [] 20% 1.0s\u001b[0K\u001b[1G100.9 MiB [] 21% 1.0s\u001b[0K\u001b[1G100.9 MiB [] 22% 1.0s\u001b[0K\u001b[1G100.9 MiB [] 23% 1.0s\u001b[0K\u001b[1G100.9 MiB [] 24% 1.0s\u001b[0K\u001b[1G100.9 MiB [] 25% 1.0s\u001b[0K\u001b[1G100.9 MiB [] 27% 0.9s\u001b[0K\u001b[1G100.9 MiB [] 29% 0.9s\u001b[0K\u001b[1G100.9 MiB [] 30% 0.9s\u001b[0K\u001b[1G100.9 MiB [] 32% 0.9s\u001b[0K\u001b[1G100.9 MiB [] 33% 0.8s\u001b[0K\u001b[1G100.9 MiB [] 35% 0.8s\u001b[0K\u001b[1G100.9 MiB [] 36% 0.8s\u001b[0K\u001b[1G100.9 MiB [] 38% 0.8s\u001b[0K\u001b[1G100.9 MiB [] 40% 0.7s\u001b[0K\u001b[1G100.9 MiB [] 42% 0.7s\u001b[0K\u001b[1G100.9 MiB [] 44% 0.6s\u001b[0K\u001b[1G100.9 MiB [] 46% 0.6s\u001b[0K\u001b[1G100.9 MiB [] 48% 0.6s\u001b[0K\u001b[1G100.9 MiB [] 50% 0.6s\u001b[0K\u001b[1G100.9 MiB [] 52% 0.5s\u001b[0K\u001b[1G100.9 MiB [] 54% 0.5s\u001b[0K\u001b[1G100.9 MiB [] 56% 0.5s\u001b[0K\u001b[1G100.9 MiB [] 58% 0.5s\u001b[0K\u001b[1G100.9 MiB [] 60% 0.4s\u001b[0K\u001b[1G100.9 MiB [] 62% 0.4s\u001b[0K\u001b[1G100.9 MiB [] 65% 0.4s\u001b[0K\u001b[1G100.9 MiB [] 66% 0.4s\u001b[0K\u001b[1G100.9 MiB [] 68% 0.3s\u001b[0K\u001b[1G100.9 MiB [] 71% 0.3s\u001b[0K\u001b[1G100.9 MiB [] 72% 0.3s\u001b[0K\u001b[1G100.9 MiB [] 75% 0.3s\u001b[0K\u001b[1G100.9 MiB [] 77% 0.2s\u001b[0K\u001b[1G100.9 MiB [] 79% 0.2s\u001b[0K\u001b[1G100.9 MiB [] 81% 0.2s\u001b[0K\u001b[1G100.9 MiB [] 83% 0.2s\u001b[0K\u001b[1G100.9 MiB [] 85% 0.1s\u001b[0K\u001b[1G100.9 MiB [] 87% 0.1s\u001b[0K\u001b[1G100.9 MiB [] 90% 0.1s\u001b[0K\u001b[1G100.9 MiB [] 92% 0.1s\u001b[0K\u001b[1G100.9 MiB [] 93% 0.1s\u001b[0K\u001b[1G100.9 MiB [] 96% 0.0s\u001b[0K\u001b[1G100.9 MiB [] 98% 0.0s\u001b[0K\u001b[1G100.9 MiB [] 100% 0.0s\u001b[0K\n",
            "Chromium Headless Shell 131.0.6778.33 (playwright build v1148) downloaded to /root/.cache/ms-playwright/chromium_headless_shell-1148\n",
            "Downloading Firefox 132.0 (playwright build v1466)\u001b[2m from https://playwright.azureedge.net/builds/firefox/1466/firefox-ubuntu-22.04.zip\u001b[22m\n",
            "\u001b[1G87.6 MiB [] 0% 0.0s\u001b[0K\u001b[1G87.6 MiB [] 0% 4.3s\u001b[0K\u001b[1G87.6 MiB [] 1% 2.0s\u001b[0K\u001b[1G87.6 MiB [] 3% 1.6s\u001b[0K\u001b[1G87.6 MiB [] 4% 1.4s\u001b[0K\u001b[1G87.6 MiB [] 5% 1.3s\u001b[0K\u001b[1G87.6 MiB [] 7% 1.2s\u001b[0K\u001b[1G87.6 MiB [] 9% 1.1s\u001b[0K\u001b[1G87.6 MiB [] 10% 1.1s\u001b[0K\u001b[1G87.6 MiB [] 12% 1.1s\u001b[0K\u001b[1G87.6 MiB [] 13% 1.1s\u001b[0K\u001b[1G87.6 MiB [] 14% 1.1s\u001b[0K\u001b[1G87.6 MiB [] 16% 1.0s\u001b[0K\u001b[1G87.6 MiB [] 17% 1.0s\u001b[0K\u001b[1G87.6 MiB [] 19% 1.0s\u001b[0K\u001b[1G87.6 MiB [] 21% 1.0s\u001b[0K\u001b[1G87.6 MiB [] 23% 0.9s\u001b[0K\u001b[1G87.6 MiB [] 25% 0.8s\u001b[0K\u001b[1G87.6 MiB [] 26% 0.8s\u001b[0K\u001b[1G87.6 MiB [] 28% 0.8s\u001b[0K\u001b[1G87.6 MiB [] 29% 0.8s\u001b[0K\u001b[1G87.6 MiB [] 30% 0.8s\u001b[0K\u001b[1G87.6 MiB [] 32% 0.8s\u001b[0K\u001b[1G87.6 MiB [] 34% 0.7s\u001b[0K\u001b[1G87.6 MiB [] 36% 0.7s\u001b[0K\u001b[1G87.6 MiB [] 39% 0.6s\u001b[0K\u001b[1G87.6 MiB [] 41% 0.6s\u001b[0K\u001b[1G87.6 MiB [] 43% 0.6s\u001b[0K\u001b[1G87.6 MiB [] 45% 0.6s\u001b[0K\u001b[1G87.6 MiB [] 47% 0.5s\u001b[0K\u001b[1G87.6 MiB [] 50% 0.5s\u001b[0K\u001b[1G87.6 MiB [] 53% 0.4s\u001b[0K\u001b[1G87.6 MiB [] 53% 0.5s\u001b[0K\u001b[1G87.6 MiB [] 55% 0.4s\u001b[0K\u001b[1G87.6 MiB [] 58% 0.4s\u001b[0K\u001b[1G87.6 MiB [] 61% 0.4s\u001b[0K\u001b[1G87.6 MiB [] 63% 0.3s\u001b[0K\u001b[1G87.6 MiB [] 66% 0.3s\u001b[0K\u001b[1G87.6 MiB [] 67% 0.3s\u001b[0K\u001b[1G87.6 MiB [] 69% 0.3s\u001b[0K\u001b[1G87.6 MiB [] 71% 0.3s\u001b[0K\u001b[1G87.6 MiB [] 73% 0.2s\u001b[0K\u001b[1G87.6 MiB [] 74% 0.2s\u001b[0K\u001b[1G87.6 MiB [] 76% 0.2s\u001b[0K\u001b[1G87.6 MiB [] 78% 0.2s\u001b[0K\u001b[1G87.6 MiB [] 80% 0.2s\u001b[0K\u001b[1G87.6 MiB [] 82% 0.2s\u001b[0K\u001b[1G87.6 MiB [] 83% 0.2s\u001b[0K\u001b[1G87.6 MiB [] 84% 0.1s\u001b[0K\u001b[1G87.6 MiB [] 86% 0.1s\u001b[0K\u001b[1G87.6 MiB [] 88% 0.1s\u001b[0K\u001b[1G87.6 MiB [] 90% 0.1s\u001b[0K\u001b[1G87.6 MiB [] 92% 0.1s\u001b[0K\u001b[1G87.6 MiB [] 94% 0.1s\u001b[0K\u001b[1G87.6 MiB [] 97% 0.0s\u001b[0K\u001b[1G87.6 MiB [] 99% 0.0s\u001b[0K\u001b[1G87.6 MiB [] 100% 0.0s\u001b[0K\n",
            "Firefox 132.0 (playwright build v1466) downloaded to /root/.cache/ms-playwright/firefox-1466\n",
            "Downloading Webkit 18.2 (playwright build v2104)\u001b[2m from https://playwright.azureedge.net/builds/webkit/2104/webkit-ubuntu-22.04.zip\u001b[22m\n",
            "\u001b[1G95.5 MiB [] 0% 0.0s\u001b[0K\u001b[1G95.5 MiB [] 0% 7.0s\u001b[0K\u001b[1G95.5 MiB [] 0% 4.5s\u001b[0K\u001b[1G95.5 MiB [] 1% 3.3s\u001b[0K\u001b[1G95.5 MiB [] 2% 2.8s\u001b[0K\u001b[1G95.5 MiB [] 3% 2.4s\u001b[0K\u001b[1G95.5 MiB [] 4% 2.2s\u001b[0K\u001b[1G95.5 MiB [] 5% 2.0s\u001b[0K\u001b[1G95.5 MiB [] 6% 1.9s\u001b[0K\u001b[1G95.5 MiB [] 7% 1.8s\u001b[0K\u001b[1G95.5 MiB [] 9% 1.6s\u001b[0K\u001b[1G95.5 MiB [] 10% 1.6s\u001b[0K\u001b[1G95.5 MiB [] 11% 1.7s\u001b[0K\u001b[1G95.5 MiB [] 12% 1.8s\u001b[0K\u001b[1G95.5 MiB [] 14% 1.7s\u001b[0K\u001b[1G95.5 MiB [] 15% 1.7s\u001b[0K\u001b[1G95.5 MiB [] 16% 1.7s\u001b[0K\u001b[1G95.5 MiB [] 16% 1.9s\u001b[0K\u001b[1G95.5 MiB [] 16% 3.2s\u001b[0K\u001b[1G95.5 MiB [] 17% 3.4s\u001b[0K\u001b[1G95.5 MiB [] 18% 3.3s\u001b[0K\u001b[1G95.5 MiB [] 18% 3.2s\u001b[0K\u001b[1G95.5 MiB [] 19% 3.1s\u001b[0K\u001b[1G95.5 MiB [] 20% 2.9s\u001b[0K\u001b[1G95.5 MiB [] 22% 2.7s\u001b[0K\u001b[1G95.5 MiB [] 24% 2.5s\u001b[0K\u001b[1G95.5 MiB [] 25% 2.4s\u001b[0K\u001b[1G95.5 MiB [] 26% 2.4s\u001b[0K\u001b[1G95.5 MiB [] 28% 2.2s\u001b[0K\u001b[1G95.5 MiB [] 30% 2.1s\u001b[0K\u001b[1G95.5 MiB [] 31% 2.0s\u001b[0K\u001b[1G95.5 MiB [] 33% 1.9s\u001b[0K\u001b[1G95.5 MiB [] 34% 1.8s\u001b[0K\u001b[1G95.5 MiB [] 36% 1.7s\u001b[0K\u001b[1G95.5 MiB [] 38% 1.6s\u001b[0K\u001b[1G95.5 MiB [] 39% 1.5s\u001b[0K\u001b[1G95.5 MiB [] 40% 1.5s\u001b[0K\u001b[1G95.5 MiB [] 42% 1.4s\u001b[0K\u001b[1G95.5 MiB [] 44% 1.3s\u001b[0K\u001b[1G95.5 MiB [] 45% 1.3s\u001b[0K\u001b[1G95.5 MiB [] 47% 1.2s\u001b[0K\u001b[1G95.5 MiB [] 49% 1.1s\u001b[0K\u001b[1G95.5 MiB [] 50% 1.1s\u001b[0K\u001b[1G95.5 MiB [] 51% 1.1s\u001b[0K\u001b[1G95.5 MiB [] 52% 1.0s\u001b[0K\u001b[1G95.5 MiB [] 53% 1.0s\u001b[0K\u001b[1G95.5 MiB [] 55% 1.0s\u001b[0K\u001b[1G95.5 MiB [] 56% 0.9s\u001b[0K\u001b[1G95.5 MiB [] 57% 0.9s\u001b[0K\u001b[1G95.5 MiB [] 58% 0.9s\u001b[0K\u001b[1G95.5 MiB [] 60% 0.8s\u001b[0K\u001b[1G95.5 MiB [] 61% 0.8s\u001b[0K\u001b[1G95.5 MiB [] 63% 0.7s\u001b[0K\u001b[1G95.5 MiB [] 65% 0.7s\u001b[0K\u001b[1G95.5 MiB [] 66% 0.7s\u001b[0K\u001b[1G95.5 MiB [] 68% 0.6s\u001b[0K\u001b[1G95.5 MiB [] 70% 0.6s\u001b[0K\u001b[1G95.5 MiB [] 72% 0.5s\u001b[0K\u001b[1G95.5 MiB [] 73% 0.5s\u001b[0K\u001b[1G95.5 MiB [] 74% 0.5s\u001b[0K\u001b[1G95.5 MiB [] 75% 0.5s\u001b[0K\u001b[1G95.5 MiB [] 76% 0.4s\u001b[0K\u001b[1G95.5 MiB [] 78% 0.4s\u001b[0K\u001b[1G95.5 MiB [] 79% 0.4s\u001b[0K\u001b[1G95.5 MiB [] 80% 0.4s\u001b[0K\u001b[1G95.5 MiB [] 81% 0.3s\u001b[0K\u001b[1G95.5 MiB [] 83% 0.3s\u001b[0K\u001b[1G95.5 MiB [] 84% 0.3s\u001b[0K\u001b[1G95.5 MiB [] 85% 0.3s\u001b[0K\u001b[1G95.5 MiB [] 86% 0.2s\u001b[0K\u001b[1G95.5 MiB [] 87% 0.2s\u001b[0K\u001b[1G95.5 MiB [] 89% 0.2s\u001b[0K\u001b[1G95.5 MiB [] 90% 0.2s\u001b[0K\u001b[1G95.5 MiB [] 91% 0.2s\u001b[0K\u001b[1G95.5 MiB [] 92% 0.1s\u001b[0K\u001b[1G95.5 MiB [] 94% 0.1s\u001b[0K\u001b[1G95.5 MiB [] 96% 0.1s\u001b[0K\u001b[1G95.5 MiB [] 97% 0.0s\u001b[0K\u001b[1G95.5 MiB [] 98% 0.0s\u001b[0K\u001b[1G95.5 MiB [] 100% 0.0s\u001b[0K\n",
            "Webkit 18.2 (playwright build v2104) downloaded to /root/.cache/ms-playwright/webkit-2104\n",
            "Downloading FFMPEG playwright build v1010\u001b[2m from https://playwright.azureedge.net/builds/ffmpeg/1010/ffmpeg-linux.zip\u001b[22m\n",
            "\u001b[1G2.3 MiB [] 0% 0.0s\u001b[0K\u001b[1G2.3 MiB [] 19% 0.1s\u001b[0K\u001b[1G2.3 MiB [] 57% 0.0s\u001b[0K\u001b[1G2.3 MiB [] 100% 0.0s\u001b[0K\n",
            "FFMPEG playwright build v1010 downloaded to /root/.cache/ms-playwright/ffmpeg-1010\n",
            "Playwright Host validation warning: \n",
            "╔══════════════════════════════════════════════════════╗\n",
            "║ Host system is missing dependencies to run browsers. ║\n",
            "║ Missing libraries:                                   ║\n",
            "║     libwoff2dec.so.1.0.2                             ║\n",
            "║     libgstgl-1.0.so.0                                ║\n",
            "║     libgstcodecparsers-1.0.so.0                      ║\n",
            "║     libavif.so.13                                    ║\n",
            "║     libharfbuzz-icu.so.0                             ║\n",
            "║     libenchant-2.so.2                                ║\n",
            "║     libsecret-1.so.0                                 ║\n",
            "║     libhyphen.so.0                                   ║\n",
            "║     libmanette-0.2.so.0                              ║\n",
            "╚══════════════════════════════════════════════════════╝\n",
            "    at validateDependenciesLinux (/usr/local/lib/python3.11/dist-packages/playwright/driver/package/lib/server/registry/dependencies.js:216:9)\n",
            "\u001b[90m    at process.processTicksAndRejections (node:internal/process/task_queues:105:5)\u001b[39m\n",
            "    at async Registry._validateHostRequirements (/usr/local/lib/python3.11/dist-packages/playwright/driver/package/lib/server/registry/index.js:753:43)\n",
            "    at async Registry._validateHostRequirementsForExecutableIfNeeded (/usr/local/lib/python3.11/dist-packages/playwright/driver/package/lib/server/registry/index.js:851:7)\n",
            "    at async Registry.validateHostRequirementsForExecutablesIfNeeded (/usr/local/lib/python3.11/dist-packages/playwright/driver/package/lib/server/registry/index.js:840:43)\n",
            "    at async t.<anonymous> (/usr/local/lib/python3.11/dist-packages/playwright/driver/package/lib/cli/program.js:137:7)\n"
          ]
        }
      ]
    },
    {
      "cell_type": "code",
      "execution_count": null,
      "metadata": {
        "colab": {
          "base_uri": "https://localhost:8080/"
        },
        "id": "UTofIo_1pKon",
        "outputId": "a11dc87e-f57a-4615-dac3-2f04a3958f42"
      },
      "outputs": [
        {
          "output_type": "stream",
          "name": "stdout",
          "text": [
            "총 17개의 장학 공지사항을 크롤링했습니다.\n",
            "\n",
            "🔹 [1] 2025학년도 1학기 2차 국가근로장학금 학생 신청기간 안내 (2025학년도 1학기 2차 국가근로장학금 학생신청 기간을 안내하오니 1학기 국가근로를 \n",
            "희망하는 학생은 신청기간에 한국장학재단에 신청하시기 바랍니다.\n",
            "\n",
            "- 신청기간: 2025.2.4.(화) 09:00 ~ 3.18.(화) 18:00\n",
            "- 신청방법: 한국장학재단 홈페이지 및 모바일 앱을 이용하여 신청(붙임 참고)\n",
            "- 2025년도 하계방학 집중근로 프로그램에 참여하고자 하는 학생은, 반드시 2025년도\n",
            "  1학기 학생신청기간(1차 또는 2차)에 국가근로장학금 신청 필요\n",
            "\n",
            "\n",
            "붙임 2025학년도 1학기 2차  국가근로장학금 학생신청 방법(홈페이지, 모바일))\n",
            "   👉 https://www.knu.ac.kr/wbbs/wbbs/bbs/btin/viewBtin.action?btin.bbs_cde=1&btin.doc_no=1333684&btin.appl_no=000000&btin.page=1&btin.search_type=search_subject&btin.search_text=%EC%9E%A5%ED%95%99&popupDeco=&btin.note_div=row&menu_idx=67\n",
            "   📄 2025학년도 1학기 2차 국가근로장학금 학생신청 기간을 안내하오니 1학기 국가근로를 희망하는 학생은 신청기간에 한국장학재단에 신청하시기 바랍니다. - 신청기간: 2025.2.4.(화) 09:00 ~ 3.18.(화) 18:00 - 신청방법: 한국장학재단 홈페이지 및 모바일 앱을 이용하여 신청(붙임 참고) - 2025년도 하계방학 집중근로 프로그램에 참여하고자 하는 학생은, 반드시 2025년도 1학기 학생신청기간(1차 또는 2차)에 국가근로장학금 신청 필요 붙임 2025학년도 1학기 2차  국가근로장학금 학생신청 방법(홈페이지, 모바...\n",
            "\n",
            "🔹 [2] 2025학년도 1학기 국가장학금 2차 신청 안내 (1. 2025학년도 1학기 국가장학금 2차 신청 일정\n",
            "가. 신청기간: 2025. 2. 4.(화) 09:00 ~ 3. 18.(화) 18:00\n",
            "나. 서류 제출 및 가구원 동의: 2025. 2. 4.(화) 09:00 ~ 3. 25.(화) 18:00\n",
            "\n",
            "2. 신청대상: 신입생, 편입생, 재입학생, 복학생 및 1차 신청을 놓친 재학생\n",
            "\n",
            "3. 신청방법: 한국장학재단 누리집(www.kosaf.go.kr) 및 모바일 앱에서 신청\n",
            "\n",
            "4. 신청문의: 한국장학재단 상담센터(1599-2000)와 경북대학교 장학복지팀(053-950-2106)\n",
            "\n",
            "5. 2025학년도 국가장학금 변경 내용: 학자금 지원 구간이 기존 8구간→9구간까지 확대 지원)\n",
            "   👉 https://www.knu.ac.kr/wbbs/wbbs/bbs/btin/viewBtin.action?btin.bbs_cde=1&btin.doc_no=1333677&btin.appl_no=000000&btin.page=1&btin.search_type=search_subject&btin.search_text=%EC%9E%A5%ED%95%99&popupDeco=&btin.note_div=row&menu_idx=67\n",
            "   📄 1. 2025학년도 1학기 국가장학금 2차 신청 일정 가. 신청기간: 2025. 2. 4.(화) 09:00 ~ 3. 18.(화) 18:00 나. 서류 제출 및 가구원 동의: 2025. 2. 4.(화) 09:00 ~ 3. 25.(화) 18:00 2. 신청대상: 신입생, 편입생, 재입학생, 복학생 및 1차 신청을 놓친 재학생 3. 신청방법: 한국장학재단 누리집(www.kosaf.go.kr) 및 모바일 앱에서 신청 4. 신청문의: 한국장학재단 상담센터(1599-2000)와 경북대학교 장학복지팀(053-950-2106) 5. 2025학년도...\n",
            "\n",
            "🔹 [3] 2025년도 KT디지털인재장학금 신규 장학생 선발 안내(~2025. 2. 19. 23시) (2025년도 KT디지털인재장학금 신규 장학생 선발을 다음과 같이 안내하오니 관심있는 학생들은 기한 내 신청하여 주시기 바랍니다.\n",
            "\n",
            "\n",
            "1. 접수 기간: 2025. 2. 3.~2025. 2. 19. 23시\n",
            "\n",
            "2. 지원 방법: 홈페이지 또는 붙임1 상단 QR코드 스캔\n",
            "\n",
            "3. 지원 자격: 붙임 참조\n",
            "\n",
            "4. 문의처: KT그룹희망나눔재단 02-3414-2055\n",
            "\n",
            "\n",
            "\n",
            "※ 상세 사항은 붙임 참조)\n",
            "   👉 https://www.knu.ac.kr/wbbs/wbbs/bbs/btin/viewBtin.action?btin.bbs_cde=1&btin.doc_no=1333676&btin.appl_no=000000&btin.page=1&btin.search_type=search_subject&btin.search_text=%EC%9E%A5%ED%95%99&popupDeco=&btin.note_div=row&menu_idx=67\n",
            "   📄 2025년도 KT디지털인재장학금 신규 장학생 선발을 다음과 같이 안내하오니 관심있는 학생들은 기한 내 신청하여 주시기 바랍니다. 1. 접수 기간: 2025. 2. 3.~2025. 2. 19. 23시 2. 지원 방법: 홈페이지 또는 붙임1 상단 QR코드 스캔 3. 지원 자격: 붙임 참조 4. 문의처: KT그룹희망나눔재단 02-3414-2055 ※ 상세 사항은 붙임 참조...\n",
            "\n",
            "🔹 [4] 2025년도 세아해암학술장학재단 제4기 커리어챌린지 장학생 모집 (2025년도 제4기 커리어챌린지 장학생 선발을 다음과 같이 안내하오니 관심있는 학생들은 기한 내 신청하여 주시기 바랍니다.\n",
            "\n",
            "\n",
            "1. 접수 기간: 2025. 3. 3.~2025. 3. 9.(7일간)\n",
            "\n",
            "2. 신청 방법: 재단 홈페이지 신청\n",
            "\n",
            "3. 지원 혜택\n",
            "\n",
            " - 1인 500만원 또는 300만원 생활비 장학금(선발 순위에 따라 차등지급)\n",
            "\n",
            " - 연말 커리어챌린지 콘테스트 참가 기회(수상자에게 추가 장학금 혜택)\n",
            "\n",
            " - 장학생 캠프 및 교류활동, 문화예술공연 등 선택적 참여 기회\n",
            "\n",
            "\n",
            "4. 문의처: 세아해암학술장학재단 02-6970-0171\n",
            "\n",
            "\n",
            "\n",
            "※ 상세 사항은 붙임 참조)\n",
            "   👉 https://www.knu.ac.kr/wbbs/wbbs/bbs/btin/viewBtin.action?btin.bbs_cde=1&btin.doc_no=1333668&btin.appl_no=000000&btin.page=1&btin.search_type=search_subject&btin.search_text=%EC%9E%A5%ED%95%99&popupDeco=&btin.note_div=row&menu_idx=67\n",
            "   📄 2025년도 제4기 커리어챌린지 장학생 선발을 다음과 같이 안내하오니 관심있는 학생들은 기한 내 신청하여 주시기 바랍니다. 1. 접수 기간: 2025. 3. 3.~2025. 3. 9.(7일간) 2. 신청 방법: 재단 홈페이지 신청 3. 지원 혜택 - 1인 500만원 또는 300만원 생활비 장학금(선발 순위에 따라 차등지급) - 연말 커리어챌린지 콘테스트 참가 기회(수상자에게 추가 장학금 혜택) - 장학생 캠프 및 교류활동, 문화예술공연 등 선택적 참여 기회 4. 문의처: 세아해암학술장학재단 02-6970-0171 ※ 상세 사항은 붙...\n",
            "\n",
            "🔹 [5] 25년 경북대학교생활협동조합 근로장학생 제1차 모집 공고 ()\n",
            "   👉 https://www.knu.ac.kr/wbbs/wbbs/bbs/btin/viewBtin.action?btin.bbs_cde=1&btin.doc_no=1333635&btin.appl_no=000000&btin.page=1&btin.search_type=search_subject&btin.search_text=%EC%9E%A5%ED%95%99&popupDeco=&btin.note_div=row&menu_idx=67\n",
            "   📄 ...\n",
            "\n"
          ]
        }
      ],
      "source": [
        "import asyncio\n",
        "import nest_asyncio\n",
        "from playwright.async_api import async_playwright\n",
        "import json\n",
        "from bs4 import BeautifulSoup\n",
        "import os\n",
        "\n",
        "# Jupyter 환경에서 실행 가능하도록 설정\n",
        "nest_asyncio.apply()\n",
        "\n",
        "# 대상 URL 리스트\n",
        "urls = [\n",
        "    \"https://www.knu.ac.kr/wbbs/wbbs/bbs/btin/viewBtin.action?btin.bbs_cde=1&btin.doc_no=1333684&btin.appl_no=000000&btin.page=1&btin.search_type=search_subject&btin.search_text=%EC%9E%A5%ED%95%99&popupDeco=&btin.note_div=row&menu_idx=67\",\n",
        "\"https://www.knu.ac.kr/wbbs/wbbs/bbs/btin/viewBtin.action?btin.bbs_cde=1&btin.doc_no=1333677&btin.appl_no=000000&btin.page=1&btin.search_type=search_subject&btin.search_text=%EC%9E%A5%ED%95%99&popupDeco=&btin.note_div=row&menu_idx=67\",\n",
        "\"https://www.knu.ac.kr/wbbs/wbbs/bbs/btin/viewBtin.action?btin.bbs_cde=1&btin.doc_no=1333676&btin.appl_no=000000&btin.page=1&btin.search_type=search_subject&btin.search_text=%EC%9E%A5%ED%95%99&popupDeco=&btin.note_div=row&menu_idx=67\",\n",
        "\"https://www.knu.ac.kr/wbbs/wbbs/bbs/btin/viewBtin.action?btin.bbs_cde=1&btin.doc_no=1333668&btin.appl_no=000000&btin.page=1&btin.search_type=search_subject&btin.search_text=%EC%9E%A5%ED%95%99&popupDeco=&btin.note_div=row&menu_idx=67\",\n",
        "\"https://www.knu.ac.kr/wbbs/wbbs/bbs/btin/viewBtin.action?btin.bbs_cde=1&btin.doc_no=1333635&btin.appl_no=000000&btin.page=1&btin.search_type=search_subject&btin.search_text=%EC%9E%A5%ED%95%99&popupDeco=&btin.note_div=row&menu_idx=67\",\n",
        "\"https://www.knu.ac.kr/wbbs/wbbs/bbs/btin/viewBtin.action?btin.bbs_cde=1&btin.doc_no=1333608&btin.appl_no=000000&btin.page=1&btin.search_type=search_subject&btin.search_text=%EC%9E%A5%ED%95%99&popupDeco=&btin.note_div=row&menu_idx=67\",\n",
        "\"https://www.knu.ac.kr/wbbs/wbbs/bbs/btin/viewBtin.action?btin.bbs_cde=1&btin.doc_no=1333580&btin.appl_no=000000&btin.page=1&btin.search_type=search_subject&btin.search_text=%EC%9E%A5%ED%95%99&popupDeco=&btin.note_div=row&menu_idx=67\",\n",
        "\"https://www.knu.ac.kr/wbbs/wbbs/bbs/btin/viewBtin.action?btin.bbs_cde=1&btin.doc_no=1333579&btin.appl_no=000000&btin.page=2&btin.search_type=search_subject&btin.search_text=%EC%9E%A5%ED%95%99&popupDeco=&btin.note_div=row&menu_idx=67\",\n",
        "\"https://www.knu.ac.kr/wbbs/wbbs/bbs/btin/viewBtin.action?btin.bbs_cde=1&btin.doc_no=1333573&btin.appl_no=000000&btin.page=2&btin.search_type=search_subject&btin.search_text=%EC%9E%A5%ED%95%99&popupDeco=&btin.note_div=row&menu_idx=67\",\n",
        "\"https://www.knu.ac.kr/wbbs/wbbs/bbs/btin/viewBtin.action?btin.bbs_cde=1&btin.doc_no=1333572&btin.appl_no=000000&btin.page=2&btin.search_type=search_subject&btin.search_text=%EC%9E%A5%ED%95%99&popupDeco=&btin.note_div=row&menu_idx=67\",\n",
        "\"https://www.knu.ac.kr/wbbs/wbbs/bbs/btin/viewBtin.action?btin.bbs_cde=1&btin.doc_no=1333563&btin.appl_no=000000&btin.page=2&btin.search_type=search_subject&btin.search_text=%EC%9E%A5%ED%95%99&popupDeco=&btin.note_div=row&menu_idx=67\",\n",
        "\"https://www.knu.ac.kr/wbbs/wbbs/bbs/btin/viewBtin.action?btin.bbs_cde=1&btin.doc_no=1333555&btin.appl_no=000000&btin.page=2&btin.search_type=search_subject&btin.search_text=%EC%9E%A5%ED%95%99&popupDeco=&btin.note_div=row&menu_idx=67\",\n",
        "\"https://www.knu.ac.kr/wbbs/wbbs/bbs/btin/viewBtin.action?btin.bbs_cde=1&btin.doc_no=1333529&btin.appl_no=000000&btin.page=2&btin.search_type=search_subject&btin.search_text=%EC%9E%A5%ED%95%99&popupDeco=&btin.note_div=row&menu_idx=67\",\n",
        "\"https://www.knu.ac.kr/wbbs/wbbs/bbs/btin/viewBtin.action?btin.bbs_cde=1&btin.doc_no=1333484&btin.appl_no=000000&btin.page=2&btin.search_type=search_subject&btin.search_text=%EC%9E%A5%ED%95%99&popupDeco=&btin.note_div=row&menu_idx=67\",\n",
        "\"https://www.knu.ac.kr/wbbs/wbbs/bbs/btin/viewBtin.action?btin.bbs_cde=1&btin.doc_no=1333352&btin.appl_no=000000&btin.page=2&btin.search_type=search_subject&btin.search_text=%EC%9E%A5%ED%95%99&popupDeco=&btin.note_div=row&menu_idx=67\",\n",
        "\"https://www.knu.ac.kr/wbbs/wbbs/bbs/btin/viewBtin.action?btin.bbs_cde=1&btin.doc_no=1333276&btin.appl_no=000000&btin.page=2&btin.search_type=search_subject&btin.search_text=%EC%9E%A5%ED%95%99&popupDeco=&btin.note_div=row&menu_idx=67\",\n",
        "\"https://www.knu.ac.kr/wbbs/wbbs/bbs/btin/viewBtin.action?btin.bbs_cde=1&btin.doc_no=1333229&btin.appl_no=000000&btin.page=2&btin.search_type=search_subject&btin.search_text=%EC%9E%A5%ED%95%99&popupDeco=&btin.note_div=row&menu_idx=67\",\n",
        "]\n",
        "\n",
        "async def fetch_knu_scholarship_notices():\n",
        "    notices = []\n",
        "\n",
        "    async with async_playwright() as p:\n",
        "        browser = await p.chromium.launch(headless=True)\n",
        "        page = await browser.new_page()\n",
        "\n",
        "        for url in urls:\n",
        "            await page.goto(url)\n",
        "            soup = BeautifulSoup(await page.content(), \"html.parser\")\n",
        "\n",
        "            # 제목 가져오기\n",
        "            title_tag = soup.select_one(\"div.board_view h2\")\n",
        "            title = title_tag.text.strip() if title_tag else \"제목 없음\"\n",
        "\n",
        "            # 날짜 가져오기\n",
        "            date_tag = soup.select_one(\"div#viewcontent.board_cont\")\n",
        "            date_text = date_tag.text.strip() if date_tag else \"날짜 없음\"\n",
        "\n",
        "            # 본문 가져오기\n",
        "            content_div = soup.select_one(\"div#viewcontent.board_cont\")\n",
        "            content = content_div.get_text(\" \", strip=True) if content_div else \"본문 없음\"\n",
        "\n",
        "            # 데이터 저장\n",
        "            notices.append({\n",
        "                \"title\": title,\n",
        "                \"url\": url,\n",
        "                \"date\": date_text,\n",
        "                \"content\": content\n",
        "            })\n",
        "\n",
        "        await browser.close()\n",
        "\n",
        "    # JSON 파일 저장\n",
        "    save_path = \"knu_scholarship_notices.json\"\n",
        "    with open(save_path, \"w\", encoding=\"utf-8\") as f:\n",
        "        json.dump(notices, f, ensure_ascii=False, indent=4)\n",
        "\n",
        "    return notices\n",
        "\n",
        "# 크롤링 실행\n",
        "notices_data = asyncio.run(fetch_knu_scholarship_notices())\n",
        "print(f\"총 {len(notices_data)}개의 장학 공지사항을 크롤링했습니다.\\n\")\n",
        "\n",
        "# 크롤링된 데이터 일부 출력\n",
        "for i, notice in enumerate(notices_data[:5], 1):\n",
        "    content_preview = notice['content'][:300]  # 본문 앞 300자만 출력\n",
        "    print(f\"🔹 [{i}] {notice['title']} ({notice['date']})\")\n",
        "    print(f\"   👉 {notice['url']}\")\n",
        "    print(f\"   📄 {content_preview}...\\n\")\n"
      ]
    },
    {
      "cell_type": "code",
      "source": [
        "import os\n",
        "from google.colab import files\n",
        "\n",
        "save_path = \"/content/knu_scholarship_notices.json\"\n",
        "\n",
        "# ✅ 기존 파일 삭제 후 다시 저장\n",
        "if os.path.exists(save_path):\n",
        "    os.remove(save_path)\n",
        "    print(\"🗑️ 기존 JSON 파일 삭제 완료\")\n",
        "\n",
        "# ✅ 최신 JSON 데이터 저장\n",
        "with open(save_path, \"w\", encoding=\"utf-8\") as f:\n",
        "    json.dump(notices_data, f, ensure_ascii=False, indent=4)\n",
        "\n",
        "# 파일 다운로드\n",
        "files.download(save_path)\n",
        "\n",
        "print(f\"✅ JSON 파일이 저장되었고 다운로드할 수 있습니다: {save_path}\")\n"
      ],
      "metadata": {
        "colab": {
          "base_uri": "https://localhost:8080/",
          "height": 54
        },
        "id": "UAEPbyMmM3Sn",
        "outputId": "13a8591b-9e73-4b2b-be45-7d33fd66bfab"
      },
      "execution_count": null,
      "outputs": [
        {
          "output_type": "stream",
          "name": "stdout",
          "text": [
            "🗑️ 기존 JSON 파일 삭제 완료\n"
          ]
        },
        {
          "output_type": "display_data",
          "data": {
            "text/plain": [
              "<IPython.core.display.Javascript object>"
            ],
            "application/javascript": [
              "\n",
              "    async function download(id, filename, size) {\n",
              "      if (!google.colab.kernel.accessAllowed) {\n",
              "        return;\n",
              "      }\n",
              "      const div = document.createElement('div');\n",
              "      const label = document.createElement('label');\n",
              "      label.textContent = `Downloading \"${filename}\": `;\n",
              "      div.appendChild(label);\n",
              "      const progress = document.createElement('progress');\n",
              "      progress.max = size;\n",
              "      div.appendChild(progress);\n",
              "      document.body.appendChild(div);\n",
              "\n",
              "      const buffers = [];\n",
              "      let downloaded = 0;\n",
              "\n",
              "      const channel = await google.colab.kernel.comms.open(id);\n",
              "      // Send a message to notify the kernel that we're ready.\n",
              "      channel.send({})\n",
              "\n",
              "      for await (const message of channel.messages) {\n",
              "        // Send a message to notify the kernel that we're ready.\n",
              "        channel.send({})\n",
              "        if (message.buffers) {\n",
              "          for (const buffer of message.buffers) {\n",
              "            buffers.push(buffer);\n",
              "            downloaded += buffer.byteLength;\n",
              "            progress.value = downloaded;\n",
              "          }\n",
              "        }\n",
              "      }\n",
              "      const blob = new Blob(buffers, {type: 'application/binary'});\n",
              "      const a = document.createElement('a');\n",
              "      a.href = window.URL.createObjectURL(blob);\n",
              "      a.download = filename;\n",
              "      div.appendChild(a);\n",
              "      a.click();\n",
              "      div.remove();\n",
              "    }\n",
              "  "
            ]
          },
          "metadata": {}
        },
        {
          "output_type": "display_data",
          "data": {
            "text/plain": [
              "<IPython.core.display.Javascript object>"
            ],
            "application/javascript": [
              "download(\"download_1104e96a-9eea-471d-8b2d-6090ce7cd359\", \"knu_scholarship_notices.json\", 33672)"
            ]
          },
          "metadata": {}
        },
        {
          "output_type": "stream",
          "name": "stdout",
          "text": [
            "✅ JSON 파일이 저장되었고 다운로드할 수 있습니다: /content/knu_scholarship_notices.json\n"
          ]
        }
      ]
    },
    {
      "cell_type": "code",
      "source": [],
      "metadata": {
        "id": "Gge0CMIeNKlQ"
      },
      "execution_count": null,
      "outputs": []
    }
  ]
}