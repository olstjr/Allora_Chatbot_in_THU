{
  "nbformat": 4,
  "nbformat_minor": 0,
  "metadata": {
    "colab": {
      "provenance": []
    },
    "kernelspec": {
      "name": "python3",
      "display_name": "Python 3"
    },
    "language_info": {
      "name": "python"
    }
  },
  "cells": [
    {
      "cell_type": "code",
      "execution_count": null,
      "metadata": {
        "colab": {
          "base_uri": "https://localhost:8080/"
        },
        "id": "rDtucCLRD_gO",
        "outputId": "c90bdfdd-50ea-4401-a762-36d80715c7a9"
      },
      "outputs": [
        {
          "output_type": "stream",
          "name": "stdout",
          "text": [
            "Collecting playwright\n",
            "  Downloading playwright-1.50.0-py3-none-manylinux1_x86_64.whl.metadata (3.5 kB)\n",
            "Collecting pyee<13,>=12 (from playwright)\n",
            "  Downloading pyee-12.1.1-py3-none-any.whl.metadata (2.9 kB)\n",
            "Requirement already satisfied: greenlet<4.0.0,>=3.1.1 in /usr/local/lib/python3.11/dist-packages (from playwright) (3.1.1)\n",
            "Requirement already satisfied: typing-extensions in /usr/local/lib/python3.11/dist-packages (from pyee<13,>=12->playwright) (4.12.2)\n",
            "Downloading playwright-1.50.0-py3-none-manylinux1_x86_64.whl (45.1 MB)\n",
            "\u001b[2K   \u001b[90m━━━━━━━━━━━━━━━━━━━━━━━━━━━━━━━━━━━━━━━━\u001b[0m \u001b[32m45.1/45.1 MB\u001b[0m \u001b[31m14.4 MB/s\u001b[0m eta \u001b[36m0:00:00\u001b[0m\n",
            "\u001b[?25hDownloading pyee-12.1.1-py3-none-any.whl (15 kB)\n",
            "Installing collected packages: pyee, playwright\n",
            "Successfully installed playwright-1.50.0 pyee-12.1.1\n"
          ]
        }
      ],
      "source": [
        "!pip install playwright"
      ]
    },
    {
      "cell_type": "code",
      "source": [
        "!playwright install\n"
      ],
      "metadata": {
        "colab": {
          "base_uri": "https://localhost:8080/"
        },
        "id": "ROEz3y_9FqvW",
        "outputId": "be56e855-da5d-49b7-c874-f0be013fc8c3"
      },
      "execution_count": null,
      "outputs": [
        {
          "output_type": "stream",
          "name": "stdout",
          "text": [
            "Downloading Chromium 133.0.6943.16 (playwright build v1155)\u001b[2m from https://cdn.playwright.dev/dbazure/download/playwright/builds/chromium/1155/chromium-linux.zip\u001b[22m\n",
            "\u001b[1G163.5 MiB [] 0% 0.0s\u001b[0K\u001b[1G163.5 MiB [] 0% 9.1s\u001b[0K\u001b[1G163.5 MiB [] 0% 4.8s\u001b[0K\u001b[1G163.5 MiB [] 1% 4.1s\u001b[0K\u001b[1G163.5 MiB [] 1% 3.7s\u001b[0K\u001b[1G163.5 MiB [] 2% 3.4s\u001b[0K\u001b[1G163.5 MiB [] 3% 3.3s\u001b[0K\u001b[1G163.5 MiB [] 3% 3.2s\u001b[0K\u001b[1G163.5 MiB [] 4% 3.1s\u001b[0K\u001b[1G163.5 MiB [] 5% 2.9s\u001b[0K\u001b[1G163.5 MiB [] 6% 2.8s\u001b[0K\u001b[1G163.5 MiB [] 6% 3.2s\u001b[0K\u001b[1G163.5 MiB [] 7% 3.2s\u001b[0K\u001b[1G163.5 MiB [] 7% 3.3s\u001b[0K\u001b[1G163.5 MiB [] 8% 3.2s\u001b[0K\u001b[1G163.5 MiB [] 8% 3.1s\u001b[0K\u001b[1G163.5 MiB [] 9% 3.0s\u001b[0K\u001b[1G163.5 MiB [] 10% 3.0s\u001b[0K\u001b[1G163.5 MiB [] 11% 3.0s\u001b[0K\u001b[1G163.5 MiB [] 11% 2.9s\u001b[0K\u001b[1G163.5 MiB [] 12% 2.8s\u001b[0K\u001b[1G163.5 MiB [] 13% 2.8s\u001b[0K\u001b[1G163.5 MiB [] 13% 2.7s\u001b[0K\u001b[1G163.5 MiB [] 14% 2.7s\u001b[0K\u001b[1G163.5 MiB [] 14% 2.8s\u001b[0K\u001b[1G163.5 MiB [] 15% 2.8s\u001b[0K\u001b[1G163.5 MiB [] 16% 2.7s\u001b[0K\u001b[1G163.5 MiB [] 17% 2.6s\u001b[0K\u001b[1G163.5 MiB [] 18% 2.5s\u001b[0K\u001b[1G163.5 MiB [] 19% 2.4s\u001b[0K\u001b[1G163.5 MiB [] 20% 2.4s\u001b[0K\u001b[1G163.5 MiB [] 21% 2.3s\u001b[0K\u001b[1G163.5 MiB [] 22% 2.3s\u001b[0K\u001b[1G163.5 MiB [] 23% 2.2s\u001b[0K\u001b[1G163.5 MiB [] 24% 2.2s\u001b[0K\u001b[1G163.5 MiB [] 25% 2.1s\u001b[0K\u001b[1G163.5 MiB [] 26% 2.1s\u001b[0K\u001b[1G163.5 MiB [] 27% 2.0s\u001b[0K\u001b[1G163.5 MiB [] 28% 2.0s\u001b[0K\u001b[1G163.5 MiB [] 28% 2.1s\u001b[0K\u001b[1G163.5 MiB [] 29% 2.1s\u001b[0K\u001b[1G163.5 MiB [] 30% 2.0s\u001b[0K\u001b[1G163.5 MiB [] 31% 2.0s\u001b[0K\u001b[1G163.5 MiB [] 32% 1.9s\u001b[0K\u001b[1G163.5 MiB [] 33% 1.8s\u001b[0K\u001b[1G163.5 MiB [] 34% 1.8s\u001b[0K\u001b[1G163.5 MiB [] 35% 1.7s\u001b[0K\u001b[1G163.5 MiB [] 36% 1.7s\u001b[0K\u001b[1G163.5 MiB [] 37% 1.7s\u001b[0K\u001b[1G163.5 MiB [] 38% 1.6s\u001b[0K\u001b[1G163.5 MiB [] 39% 1.6s\u001b[0K\u001b[1G163.5 MiB [] 40% 1.5s\u001b[0K\u001b[1G163.5 MiB [] 41% 1.5s\u001b[0K\u001b[1G163.5 MiB [] 42% 1.4s\u001b[0K\u001b[1G163.5 MiB [] 43% 1.4s\u001b[0K\u001b[1G163.5 MiB [] 44% 1.4s\u001b[0K\u001b[1G163.5 MiB [] 45% 1.4s\u001b[0K\u001b[1G163.5 MiB [] 46% 1.3s\u001b[0K\u001b[1G163.5 MiB [] 47% 1.3s\u001b[0K\u001b[1G163.5 MiB [] 48% 1.3s\u001b[0K\u001b[1G163.5 MiB [] 49% 1.2s\u001b[0K\u001b[1G163.5 MiB [] 50% 1.2s\u001b[0K\u001b[1G163.5 MiB [] 52% 1.1s\u001b[0K\u001b[1G163.5 MiB [] 53% 1.1s\u001b[0K\u001b[1G163.5 MiB [] 55% 1.0s\u001b[0K\u001b[1G163.5 MiB [] 56% 1.0s\u001b[0K\u001b[1G163.5 MiB [] 58% 0.9s\u001b[0K\u001b[1G163.5 MiB [] 60% 0.9s\u001b[0K\u001b[1G163.5 MiB [] 61% 0.8s\u001b[0K\u001b[1G163.5 MiB [] 63% 0.8s\u001b[0K\u001b[1G163.5 MiB [] 64% 0.7s\u001b[0K\u001b[1G163.5 MiB [] 66% 0.7s\u001b[0K\u001b[1G163.5 MiB [] 67% 0.7s\u001b[0K\u001b[1G163.5 MiB [] 69% 0.6s\u001b[0K\u001b[1G163.5 MiB [] 70% 0.6s\u001b[0K\u001b[1G163.5 MiB [] 71% 0.6s\u001b[0K\u001b[1G163.5 MiB [] 72% 0.6s\u001b[0K\u001b[1G163.5 MiB [] 72% 0.5s\u001b[0K\u001b[1G163.5 MiB [] 74% 0.5s\u001b[0K\u001b[1G163.5 MiB [] 75% 0.5s\u001b[0K\u001b[1G163.5 MiB [] 76% 0.5s\u001b[0K\u001b[1G163.5 MiB [] 78% 0.4s\u001b[0K\u001b[1G163.5 MiB [] 79% 0.4s\u001b[0K\u001b[1G163.5 MiB [] 80% 0.4s\u001b[0K\u001b[1G163.5 MiB [] 81% 0.4s\u001b[0K\u001b[1G163.5 MiB [] 82% 0.3s\u001b[0K\u001b[1G163.5 MiB [] 83% 0.3s\u001b[0K\u001b[1G163.5 MiB [] 85% 0.3s\u001b[0K\u001b[1G163.5 MiB [] 86% 0.3s\u001b[0K\u001b[1G163.5 MiB [] 88% 0.2s\u001b[0K\u001b[1G163.5 MiB [] 90% 0.2s\u001b[0K\u001b[1G163.5 MiB [] 91% 0.2s\u001b[0K\u001b[1G163.5 MiB [] 93% 0.1s\u001b[0K\u001b[1G163.5 MiB [] 94% 0.1s\u001b[0K\u001b[1G163.5 MiB [] 96% 0.1s\u001b[0K\u001b[1G163.5 MiB [] 98% 0.0s\u001b[0K\u001b[1G163.5 MiB [] 100% 0.0s\u001b[0K\n",
            "Chromium 133.0.6943.16 (playwright build v1155) downloaded to /root/.cache/ms-playwright/chromium-1155\n",
            "Downloading Chromium Headless Shell 133.0.6943.16 (playwright build v1155)\u001b[2m from https://cdn.playwright.dev/dbazure/download/playwright/builds/chromium/1155/chromium-headless-shell-linux.zip\u001b[22m\n",
            "\u001b[1G99.9 MiB [] 0% 0.0s\u001b[0K\u001b[1G99.9 MiB [] 0% 6.8s\u001b[0K\u001b[1G99.9 MiB [] 1% 3.9s\u001b[0K\u001b[1G99.9 MiB [] 1% 5.3s\u001b[0K\u001b[1G99.9 MiB [] 1% 6.5s\u001b[0K\u001b[1G99.9 MiB [] 1% 7.7s\u001b[0K\u001b[1G99.9 MiB [] 1% 7.9s\u001b[0K\u001b[1G99.9 MiB [] 1% 8.3s\u001b[0K\u001b[1G99.9 MiB [] 1% 7.6s\u001b[0K\u001b[1G99.9 MiB [] 2% 5.7s\u001b[0K\u001b[1G99.9 MiB [] 4% 4.0s\u001b[0K\u001b[1G99.9 MiB [] 5% 3.3s\u001b[0K\u001b[1G99.9 MiB [] 7% 2.6s\u001b[0K\u001b[1G99.9 MiB [] 8% 2.5s\u001b[0K\u001b[1G99.9 MiB [] 9% 2.3s\u001b[0K\u001b[1G99.9 MiB [] 10% 2.3s\u001b[0K\u001b[1G99.9 MiB [] 11% 2.2s\u001b[0K\u001b[1G99.9 MiB [] 13% 2.0s\u001b[0K\u001b[1G99.9 MiB [] 14% 1.9s\u001b[0K\u001b[1G99.9 MiB [] 16% 1.8s\u001b[0K\u001b[1G99.9 MiB [] 18% 1.7s\u001b[0K\u001b[1G99.9 MiB [] 19% 1.5s\u001b[0K\u001b[1G99.9 MiB [] 21% 1.5s\u001b[0K\u001b[1G99.9 MiB [] 22% 1.4s\u001b[0K\u001b[1G99.9 MiB [] 24% 1.3s\u001b[0K\u001b[1G99.9 MiB [] 26% 1.2s\u001b[0K\u001b[1G99.9 MiB [] 28% 1.2s\u001b[0K\u001b[1G99.9 MiB [] 30% 1.1s\u001b[0K\u001b[1G99.9 MiB [] 33% 1.0s\u001b[0K\u001b[1G99.9 MiB [] 35% 0.9s\u001b[0K\u001b[1G99.9 MiB [] 36% 0.9s\u001b[0K\u001b[1G99.9 MiB [] 39% 0.8s\u001b[0K\u001b[1G99.9 MiB [] 42% 0.8s\u001b[0K\u001b[1G99.9 MiB [] 43% 0.7s\u001b[0K\u001b[1G99.9 MiB [] 44% 0.7s\u001b[0K\u001b[1G99.9 MiB [] 45% 0.7s\u001b[0K\u001b[1G99.9 MiB [] 48% 0.7s\u001b[0K\u001b[1G99.9 MiB [] 50% 0.6s\u001b[0K\u001b[1G99.9 MiB [] 53% 0.6s\u001b[0K\u001b[1G99.9 MiB [] 56% 0.5s\u001b[0K\u001b[1G99.9 MiB [] 58% 0.5s\u001b[0K\u001b[1G99.9 MiB [] 61% 0.4s\u001b[0K\u001b[1G99.9 MiB [] 64% 0.4s\u001b[0K\u001b[1G99.9 MiB [] 66% 0.4s\u001b[0K\u001b[1G99.9 MiB [] 69% 0.3s\u001b[0K\u001b[1G99.9 MiB [] 70% 0.3s\u001b[0K\u001b[1G99.9 MiB [] 73% 0.3s\u001b[0K\u001b[1G99.9 MiB [] 74% 0.3s\u001b[0K\u001b[1G99.9 MiB [] 76% 0.2s\u001b[0K\u001b[1G99.9 MiB [] 79% 0.2s\u001b[0K\u001b[1G99.9 MiB [] 81% 0.2s\u001b[0K\u001b[1G99.9 MiB [] 83% 0.2s\u001b[0K\u001b[1G99.9 MiB [] 87% 0.1s\u001b[0K\u001b[1G99.9 MiB [] 90% 0.1s\u001b[0K\u001b[1G99.9 MiB [] 92% 0.1s\u001b[0K\u001b[1G99.9 MiB [] 95% 0.0s\u001b[0K\u001b[1G99.9 MiB [] 98% 0.0s\u001b[0K\u001b[1G99.9 MiB [] 100% 0.0s\u001b[0K\n",
            "Chromium Headless Shell 133.0.6943.16 (playwright build v1155) downloaded to /root/.cache/ms-playwright/chromium_headless_shell-1155\n",
            "Downloading Firefox 134.0 (playwright build v1471)\u001b[2m from https://cdn.playwright.dev/dbazure/download/playwright/builds/firefox/1471/firefox-ubuntu-22.04.zip\u001b[22m\n",
            "\u001b[1G88.7 MiB [] 0% 0.0s\u001b[0K\u001b[1G88.7 MiB [] 0% 4.1s\u001b[0K\u001b[1G88.7 MiB [] 1% 2.3s\u001b[0K\u001b[1G88.7 MiB [] 2% 2.2s\u001b[0K\u001b[1G88.7 MiB [] 3% 2.0s\u001b[0K\u001b[1G88.7 MiB [] 4% 1.9s\u001b[0K\u001b[1G88.7 MiB [] 5% 1.7s\u001b[0K\u001b[1G88.7 MiB [] 6% 1.6s\u001b[0K\u001b[1G88.7 MiB [] 8% 1.4s\u001b[0K\u001b[1G88.7 MiB [] 9% 1.4s\u001b[0K\u001b[1G88.7 MiB [] 10% 1.4s\u001b[0K\u001b[1G88.7 MiB [] 11% 1.3s\u001b[0K\u001b[1G88.7 MiB [] 12% 1.5s\u001b[0K\u001b[1G88.7 MiB [] 13% 1.4s\u001b[0K\u001b[1G88.7 MiB [] 14% 1.4s\u001b[0K\u001b[1G88.7 MiB [] 15% 1.4s\u001b[0K\u001b[1G88.7 MiB [] 16% 1.4s\u001b[0K\u001b[1G88.7 MiB [] 17% 1.3s\u001b[0K\u001b[1G88.7 MiB [] 18% 1.4s\u001b[0K\u001b[1G88.7 MiB [] 19% 1.4s\u001b[0K\u001b[1G88.7 MiB [] 20% 1.4s\u001b[0K\u001b[1G88.7 MiB [] 21% 1.4s\u001b[0K\u001b[1G88.7 MiB [] 23% 1.3s\u001b[0K\u001b[1G88.7 MiB [] 24% 1.3s\u001b[0K\u001b[1G88.7 MiB [] 25% 1.2s\u001b[0K\u001b[1G88.7 MiB [] 26% 1.2s\u001b[0K\u001b[1G88.7 MiB [] 27% 1.2s\u001b[0K\u001b[1G88.7 MiB [] 28% 1.2s\u001b[0K\u001b[1G88.7 MiB [] 29% 1.2s\u001b[0K\u001b[1G88.7 MiB [] 30% 1.1s\u001b[0K\u001b[1G88.7 MiB [] 32% 1.1s\u001b[0K\u001b[1G88.7 MiB [] 33% 1.1s\u001b[0K\u001b[1G88.7 MiB [] 35% 1.0s\u001b[0K\u001b[1G88.7 MiB [] 36% 1.0s\u001b[0K\u001b[1G88.7 MiB [] 38% 1.0s\u001b[0K\u001b[1G88.7 MiB [] 39% 0.9s\u001b[0K\u001b[1G88.7 MiB [] 41% 0.9s\u001b[0K\u001b[1G88.7 MiB [] 42% 0.9s\u001b[0K\u001b[1G88.7 MiB [] 43% 0.9s\u001b[0K\u001b[1G88.7 MiB [] 44% 0.8s\u001b[0K\u001b[1G88.7 MiB [] 46% 0.8s\u001b[0K\u001b[1G88.7 MiB [] 47% 0.8s\u001b[0K\u001b[1G88.7 MiB [] 47% 0.9s\u001b[0K\u001b[1G88.7 MiB [] 47% 1.0s\u001b[0K\u001b[1G88.7 MiB [] 48% 0.9s\u001b[0K\u001b[1G88.7 MiB [] 50% 0.9s\u001b[0K\u001b[1G88.7 MiB [] 51% 0.9s\u001b[0K\u001b[1G88.7 MiB [] 52% 0.9s\u001b[0K\u001b[1G88.7 MiB [] 54% 0.8s\u001b[0K\u001b[1G88.7 MiB [] 55% 0.8s\u001b[0K\u001b[1G88.7 MiB [] 57% 0.8s\u001b[0K\u001b[1G88.7 MiB [] 59% 0.7s\u001b[0K\u001b[1G88.7 MiB [] 60% 0.7s\u001b[0K\u001b[1G88.7 MiB [] 62% 0.7s\u001b[0K\u001b[1G88.7 MiB [] 63% 0.6s\u001b[0K\u001b[1G88.7 MiB [] 66% 0.6s\u001b[0K\u001b[1G88.7 MiB [] 67% 0.5s\u001b[0K\u001b[1G88.7 MiB [] 69% 0.5s\u001b[0K\u001b[1G88.7 MiB [] 70% 0.5s\u001b[0K\u001b[1G88.7 MiB [] 72% 0.5s\u001b[0K\u001b[1G88.7 MiB [] 74% 0.4s\u001b[0K\u001b[1G88.7 MiB [] 75% 0.4s\u001b[0K\u001b[1G88.7 MiB [] 77% 0.4s\u001b[0K\u001b[1G88.7 MiB [] 78% 0.3s\u001b[0K\u001b[1G88.7 MiB [] 80% 0.3s\u001b[0K\u001b[1G88.7 MiB [] 82% 0.3s\u001b[0K\u001b[1G88.7 MiB [] 83% 0.3s\u001b[0K\u001b[1G88.7 MiB [] 84% 0.2s\u001b[0K\u001b[1G88.7 MiB [] 86% 0.2s\u001b[0K\u001b[1G88.7 MiB [] 88% 0.2s\u001b[0K\u001b[1G88.7 MiB [] 89% 0.2s\u001b[0K\u001b[1G88.7 MiB [] 91% 0.1s\u001b[0K\u001b[1G88.7 MiB [] 92% 0.1s\u001b[0K\u001b[1G88.7 MiB [] 93% 0.1s\u001b[0K\u001b[1G88.7 MiB [] 94% 0.1s\u001b[0K\u001b[1G88.7 MiB [] 96% 0.1s\u001b[0K\u001b[1G88.7 MiB [] 97% 0.0s\u001b[0K\u001b[1G88.7 MiB [] 99% 0.0s\u001b[0K\u001b[1G88.7 MiB [] 100% 0.0s\u001b[0K\n",
            "Firefox 134.0 (playwright build v1471) downloaded to /root/.cache/ms-playwright/firefox-1471\n",
            "Downloading Webkit 18.2 (playwright build v2123)\u001b[2m from https://cdn.playwright.dev/dbazure/download/playwright/builds/webkit/2123/webkit-ubuntu-22.04.zip\u001b[22m\n",
            "\u001b[1G89.2 MiB [] 0% 0.0s\u001b[0K\u001b[1G89.2 MiB [] 0% 4.0s\u001b[0K\u001b[1G89.2 MiB [] 1% 1.7s\u001b[0K\u001b[1G89.2 MiB [] 3% 1.5s\u001b[0K\u001b[1G89.2 MiB [] 4% 1.3s\u001b[0K\u001b[1G89.2 MiB [] 6% 1.2s\u001b[0K\u001b[1G89.2 MiB [] 7% 1.1s\u001b[0K\u001b[1G89.2 MiB [] 9% 1.0s\u001b[0K\u001b[1G89.2 MiB [] 11% 1.0s\u001b[0K\u001b[1G89.2 MiB [] 12% 1.1s\u001b[0K\u001b[1G89.2 MiB [] 13% 1.1s\u001b[0K\u001b[1G89.2 MiB [] 14% 1.0s\u001b[0K\u001b[1G89.2 MiB [] 16% 1.0s\u001b[0K\u001b[1G89.2 MiB [] 18% 0.9s\u001b[0K\u001b[1G89.2 MiB [] 19% 0.9s\u001b[0K\u001b[1G89.2 MiB [] 20% 0.9s\u001b[0K\u001b[1G89.2 MiB [] 22% 0.9s\u001b[0K\u001b[1G89.2 MiB [] 24% 0.8s\u001b[0K\u001b[1G89.2 MiB [] 25% 0.8s\u001b[0K\u001b[1G89.2 MiB [] 27% 0.8s\u001b[0K\u001b[1G89.2 MiB [] 29% 0.8s\u001b[0K\u001b[1G89.2 MiB [] 31% 0.7s\u001b[0K\u001b[1G89.2 MiB [] 33% 0.7s\u001b[0K\u001b[1G89.2 MiB [] 36% 0.6s\u001b[0K\u001b[1G89.2 MiB [] 38% 0.6s\u001b[0K\u001b[1G89.2 MiB [] 41% 0.6s\u001b[0K\u001b[1G89.2 MiB [] 43% 0.6s\u001b[0K\u001b[1G89.2 MiB [] 44% 0.5s\u001b[0K\u001b[1G89.2 MiB [] 47% 0.5s\u001b[0K\u001b[1G89.2 MiB [] 49% 0.5s\u001b[0K\u001b[1G89.2 MiB [] 51% 0.5s\u001b[0K\u001b[1G89.2 MiB [] 54% 0.4s\u001b[0K\u001b[1G89.2 MiB [] 56% 0.4s\u001b[0K\u001b[1G89.2 MiB [] 59% 0.4s\u001b[0K\u001b[1G89.2 MiB [] 61% 0.4s\u001b[0K\u001b[1G89.2 MiB [] 64% 0.3s\u001b[0K\u001b[1G89.2 MiB [] 66% 0.3s\u001b[0K\u001b[1G89.2 MiB [] 69% 0.3s\u001b[0K\u001b[1G89.2 MiB [] 71% 0.3s\u001b[0K\u001b[1G89.2 MiB [] 73% 0.2s\u001b[0K\u001b[1G89.2 MiB [] 76% 0.2s\u001b[0K\u001b[1G89.2 MiB [] 78% 0.2s\u001b[0K\u001b[1G89.2 MiB [] 80% 0.2s\u001b[0K\u001b[1G89.2 MiB [] 82% 0.2s\u001b[0K\u001b[1G89.2 MiB [] 84% 0.1s\u001b[0K\u001b[1G89.2 MiB [] 86% 0.1s\u001b[0K\u001b[1G89.2 MiB [] 88% 0.1s\u001b[0K\u001b[1G89.2 MiB [] 90% 0.1s\u001b[0K\u001b[1G89.2 MiB [] 93% 0.1s\u001b[0K\u001b[1G89.2 MiB [] 96% 0.0s\u001b[0K\u001b[1G89.2 MiB [] 99% 0.0s\u001b[0K\u001b[1G89.2 MiB [] 100% 0.0s\u001b[0K\n",
            "Webkit 18.2 (playwright build v2123) downloaded to /root/.cache/ms-playwright/webkit-2123\n",
            "Downloading FFMPEG playwright build v1011\u001b[2m from https://cdn.playwright.dev/dbazure/download/playwright/builds/ffmpeg/1011/ffmpeg-linux.zip\u001b[22m\n",
            "\u001b[1G2.3 MiB [] 0% 0.0s\u001b[0K\u001b[1G2.3 MiB [] 10% 0.1s\u001b[0K\u001b[1G2.3 MiB [] 66% 0.0s\u001b[0K\u001b[1G2.3 MiB [] 100% 0.0s\u001b[0K\n",
            "FFMPEG playwright build v1011 downloaded to /root/.cache/ms-playwright/ffmpeg-1011\n",
            "Playwright Host validation warning: \n",
            "╔══════════════════════════════════════════════════════╗\n",
            "║ Host system is missing dependencies to run browsers. ║\n",
            "║ Missing libraries:                                   ║\n",
            "║     libgtk-4.so.1                                    ║\n",
            "║     libgraphene-1.0.so.0                             ║\n",
            "║     libwoff2dec.so.1.0.2                             ║\n",
            "║     libgstgl-1.0.so.0                                ║\n",
            "║     libgstcodecparsers-1.0.so.0                      ║\n",
            "║     libavif.so.13                                    ║\n",
            "║     libharfbuzz-icu.so.0                             ║\n",
            "║     libenchant-2.so.2                                ║\n",
            "║     libsecret-1.so.0                                 ║\n",
            "║     libhyphen.so.0                                   ║\n",
            "║     libmanette-0.2.so.0                              ║\n",
            "╚══════════════════════════════════════════════════════╝\n",
            "    at validateDependenciesLinux (/usr/local/lib/python3.11/dist-packages/playwright/driver/package/lib/server/registry/dependencies.js:216:9)\n",
            "\u001b[90m    at process.processTicksAndRejections (node:internal/process/task_queues:105:5)\u001b[39m\n",
            "    at async Registry._validateHostRequirements (/usr/local/lib/python3.11/dist-packages/playwright/driver/package/lib/server/registry/index.js:865:43)\n",
            "    at async Registry._validateHostRequirementsForExecutableIfNeeded (/usr/local/lib/python3.11/dist-packages/playwright/driver/package/lib/server/registry/index.js:963:7)\n",
            "    at async Registry.validateHostRequirementsForExecutablesIfNeeded (/usr/local/lib/python3.11/dist-packages/playwright/driver/package/lib/server/registry/index.js:952:43)\n",
            "    at async t.<anonymous> (/usr/local/lib/python3.11/dist-packages/playwright/driver/package/lib/cli/program.js:122:7)\n"
          ]
        }
      ]
    },
    {
      "cell_type": "code",
      "source": [
        "import asyncio\n",
        "import nest_asyncio\n",
        "from playwright.async_api import async_playwright\n",
        "import json\n",
        "from bs4 import BeautifulSoup\n",
        "import subprocess\n",
        "\n",
        "# Jupyter Notebook에서 실행 가능하도록 설정\n",
        "nest_asyncio.apply()\n",
        "\n",
        "# Playwright 브라우저 설치 (필요 시 자동 설치)\n",
        "try:\n",
        "    subprocess.run([\"playwright\", \"install\"], check=True)\n",
        "except subprocess.CalledProcessError:\n",
        "    print(\"Playwright 브라우저 설치 실패. 수동으로 'playwright install'을 실행하세요.\")\n",
        "\n",
        "async def fetch_yju_scholarship_notices():\n",
        "    base_url = \"https://www.yju.ac.kr/kr/3261/subview.do?enc=Zm5jdDF8QEB8...&page={}\"  # 페이지 번호로 접근\n",
        "    notices = []\n",
        "    page_numbers = range(1, 4)  # 최대 3페이지까지 탐색\n",
        "\n",
        "    async with async_playwright() as p:\n",
        "        browser = await p.chromium.launch(headless=True)\n",
        "        context = await browser.new_context()\n",
        "        page = await context.new_page()\n",
        "\n",
        "        for page_num in page_numbers:\n",
        "            list_page_url = base_url.format(page_num)\n",
        "            await page.goto(list_page_url, wait_until=\"networkidle\")\n",
        "\n",
        "            soup = BeautifulSoup(await page.content(), \"html.parser\")\n",
        "\n",
        "            # 공지사항 제목 및 링크 추출\n",
        "            notice_items = soup.select(\".board-list .td-subject a\")\n",
        "            notice_dates = soup.select(\".board-list .td-date\")\n",
        "\n",
        "            if not notice_items:\n",
        "                break\n",
        "\n",
        "            for item, date_tag in zip(notice_items, notice_dates):\n",
        "                title = item.text.strip()\n",
        "                date_str = date_tag.text.strip()\n",
        "                detail_url = \"https://www.yju.ac.kr\" + item[\"href\"]  # 상세페이지 URL 조합\n",
        "\n",
        "                await page.goto(detail_url, wait_until=\"networkidle\")\n",
        "                final_soup = BeautifulSoup(await page.content(), \"html.parser\")\n",
        "\n",
        "                content_div = final_soup.select_one(\".board-view .board-content\")\n",
        "                content = content_div.get_text(\"\\n\", strip=True) if content_div else \"본문 없음\"\n",
        "\n",
        "                if \"장학\" in title.lower() or \"장학\" in content.lower():\n",
        "                    notices.append({\n",
        "                        \"title\": title,\n",
        "                        \"url\": detail_url,\n",
        "                        \"date\": date_str,\n",
        "                        \"content\": content\n",
        "                    })\n",
        "\n",
        "                await page.go_back()\n",
        "\n",
        "        await browser.close()\n",
        "\n",
        "    return notices\n",
        "\n",
        "# 크롤링 실행\n",
        "notices_data = asyncio.run(fetch_yju_scholarship_notices())\n",
        "print(f\"총 {len(notices_data)}개의 장학 공지사항을 크롤링했습니다.\\n\")\n",
        "\n",
        "# 크롤링된 데이터 출력 (최대 5개 미리보기)\n",
        "for i, notice in enumerate(notices_data[:5], 1):\n",
        "    content_preview = notice['content'][:300]\n",
        "    print(f\"[{i}] {notice['title']} ({notice['date']})\")\n",
        "    print(f\"   {notice['url']}\")\n",
        "    print(f\"   {content_preview}...\\n\")\n"
      ],
      "metadata": {
        "colab": {
          "base_uri": "https://localhost:8080/"
        },
        "id": "abIo_SCiEA2t",
        "outputId": "8328a319-6c6f-4e46-c72b-c6c3166a3f01"
      },
      "execution_count": null,
      "outputs": [
        {
          "output_type": "stream",
          "name": "stdout",
          "text": [
            "총 0개의 장학 공지사항을 크롤링했습니다.\n",
            "\n"
          ]
        }
      ]
    },
    {
      "cell_type": "code",
      "source": [
        "import asyncio\n",
        "import nest_asyncio\n",
        "from playwright.async_api import async_playwright\n",
        "import json\n",
        "from bs4 import BeautifulSoup\n",
        "\n",
        "# Jupyter Notebook에서 실행 가능하도록 설정\n",
        "nest_asyncio.apply()\n",
        "\n",
        "async def fetch_yju_scholarship_notices():\n",
        "    base_url = \"https://www.yju.ac.kr/kr/3261/subview.do\"  # 페이지 번호로 접근\n",
        "    notices = []\n",
        "\n",
        "    async with async_playwright() as p:\n",
        "        browser = await p.chromium.launch(headless=True)  # ✅ 디버깅을 위해 headless=False로 변경\n",
        "        context = await browser.new_context()\n",
        "\n",
        "        # ✅ 공지사항 목록 페이지에서 세션 유지\n",
        "        page = await context.new_page()\n",
        "        await page.goto(base_url, wait_until=\"networkidle\")\n",
        "        print('⏳ 기본 페이지 로딩 완료')\n",
        "\n",
        "        await page.goto(base_url, wait_until=\"networkidle\")\n",
        "        await page.wait_for_load_state(\"domcontentloaded\")\n",
        "        print(f'🔗 페이지 이동 완료: {base_url}')\n",
        "\n",
        "        soup = BeautifulSoup(await page.content(), \"html.parser\")\n",
        "\n",
        "        # 🔹 공지사항 제목 및 상세 URL 추출\n",
        "        notice_items = await page.locator(\"html > body > div:nth-of-type(1) > div:nth-of-type(3) > div:nth-of-type(2) > div:nth-of-type(2) > div:nth-of-type(3) > div > article > div > div > div > div:nth-of-type(2) > div > div > div > div > div > div:nth-of-type(2) > div:nth-of-type(1) > form:nth-of-type(2) > div > ul > li:nth-of-type(1) > ol > li:nth-of-type(1) > a > div > span\").all()\n",
        "        notice_dates = soup.select(\"tr td:nth-child(3)\")\n",
        "\n",
        "        if not notice_items:\n",
        "            print(\"❌ 공지사항 제목을 찾을 수 없습니다. HTML 일부 출력:\")\n",
        "            html_content = await page.content()\n",
        "            print(html_content[:2000])  # HTML 일부 출력\n",
        "            return notices\n",
        "\n",
        "        for idx, (item, date_tag) in enumerate(zip(notice_items, notice_dates)):\n",
        "            title = item.text.strip()\n",
        "            date_str = date_tag.text.strip()\n",
        "\n",
        "            # ✅ 링크를 직접 방문하는 것이 아니라 클릭 방식으로 이동하도록 설정\n",
        "            element_handle = await page.query_selector(f'html>body>div[1]>div[3]>div[2]>div[2]>div[3]>div>article>div>div>div>div[2]>div>div>div>div>div>div[2]>div[1]>form[2]>div>ul>li[1]>ol>li[{idx+1}]>a>div>span')\n",
        "            if element_handle:\n",
        "                print(f'✅ 링크 요소 발견 (공지 {idx+1}): {title}')\n",
        "                print(f'🔹 클릭 시도: {title}')\n",
        "                await element_handle.click()\n",
        "                await page.wait_for_load_state(\"networkidle\")  # 상세 페이지 로딩 대기\n",
        "                print(f'⏳ 상세 페이지 로딩 완료: {title}')\n",
        "                print(f'🖱️ 클릭 완료: {title}')  # ✅ 클릭 방식으로 이동\n",
        "\n",
        "                # ✅ 페이지 로드 완료까지 대기\n",
        "                await page.wait_for_load_state(\"networkidle\")\n",
        "                print('⏳ 상세 페이지 로딩 완료')\n",
        "\n",
        "                # ✅ 리디렉션 감지: 만약 index.jsp로 이동하면 다시 시도\n",
        "                if \"index.jsp\" in page.url:\n",
        "                    print(f\"⚠️ {title} 페이지가 index.jsp로 리디렉션됨. 크롤링 불가\")\n",
        "                    await page.go_back()\n",
        "                print('🔙 목록 페이지로 돌아가기')\n",
        "\n",
        "                final_soup = BeautifulSoup(await page.content(), \"html.parser\")\n",
        "\n",
        "                # 🔹 상세 내용 크롤링\n",
        "                content_div = final_soup.select(\"html>body>div[1]>div[3]>div[2]>div[2]>div[3]>div>article>div>div>div>div[2]>div>div>div>div>div>div>div>div>ul[2]>li *\")\n",
        "\n",
        "                if content_div:\n",
        "                    content = content_div.get_text(\"\\n\", strip=True)\n",
        "                else:\n",
        "                    content = \"본문 없음\"\n",
        "\n",
        "                # 🔹 \"장학\"이 포함된 공지만 저장\n",
        "                if \"장학\" in title.lower() or \"장학\" in content.lower():\n",
        "                    notices.append({\n",
        "                        \"title\": title,\n",
        "                        \"url\": page.url,  # ✅ 현재 페이지 URL 저장\n",
        "                        \"date\": date_str,\n",
        "                        \"content\": content\n",
        "                    })\n",
        "\n",
        "                await page.go_back()  # ✅ 목록 페이지로 다시 돌아가기\n",
        "\n",
        "        await browser.close()\n",
        "\n",
        "    return notices\n",
        "\n",
        "# 📌 크롤링 실행\n",
        "notices_data = asyncio.run(fetch_yju_scholarship_notices())\n",
        "print(f\"총 {len(notices_data)}개의 장학 공지사항을 크롤링했습니다.\\n\")\n",
        "\n",
        "# ✅ 크롤링된 데이터 출력 (최대 5개 미리보기)\n",
        "for i, notice in enumerate(notices_data[:5], 1):\n",
        "    content_preview = notice['content'][:300]  # 본문 앞 300자만 출력\n",
        "    print(f\"🔹 [{i}] {notice['title']} ({notice['date']})\")\n",
        "    print(f\"   👉 {notice['url']}\")\n",
        "    print(f\"   📄 {content_preview}...\\n\")\n"
      ],
      "metadata": {
        "colab": {
          "base_uri": "https://localhost:8080/"
        },
        "id": "oPPmmD7kGH-e",
        "outputId": "60e7b57b-9fbd-4652-89b1-ebd41cb3004d"
      },
      "execution_count": null,
      "outputs": [
        {
          "output_type": "stream",
          "name": "stdout",
          "text": [
            "⏳ 기본 페이지 로딩 완료\n",
            "🔗 페이지 이동 완료: https://www.yju.ac.kr/kr/3261/subview.do\n",
            "총 0개의 장학 공지사항을 크롤링했습니다.\n",
            "\n"
          ]
        }
      ]
    }
  ]
}