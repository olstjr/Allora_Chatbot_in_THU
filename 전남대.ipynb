{
  "nbformat": 4,
  "nbformat_minor": 0,
  "metadata": {
    "colab": {
      "provenance": []
    },
    "kernelspec": {
      "name": "python3",
      "display_name": "Python 3"
    },
    "language_info": {
      "name": "python"
    }
  },
  "cells": [
    {
      "cell_type": "code",
      "source": [
        "!pip install playwright"
      ],
      "metadata": {
        "colab": {
          "base_uri": "https://localhost:8080/"
        },
        "id": "PWdHOPdrdBox",
        "outputId": "b09ca8b5-ce7c-4bd9-afa5-1baa78712e55"
      },
      "execution_count": null,
      "outputs": [
        {
          "output_type": "stream",
          "name": "stdout",
          "text": [
            "Collecting playwright\n",
            "  Downloading playwright-1.49.1-py3-none-manylinux1_x86_64.whl.metadata (3.5 kB)\n",
            "Requirement already satisfied: greenlet==3.1.1 in /usr/local/lib/python3.11/dist-packages (from playwright) (3.1.1)\n",
            "Collecting pyee==12.0.0 (from playwright)\n",
            "  Downloading pyee-12.0.0-py3-none-any.whl.metadata (2.8 kB)\n",
            "Requirement already satisfied: typing-extensions in /usr/local/lib/python3.11/dist-packages (from pyee==12.0.0->playwright) (4.12.2)\n",
            "Downloading playwright-1.49.1-py3-none-manylinux1_x86_64.whl (44.2 MB)\n",
            "\u001b[2K   \u001b[90m━━━━━━━━━━━━━━━━━━━━━━━━━━━━━━━━━━━━━━━━\u001b[0m \u001b[32m44.2/44.2 MB\u001b[0m \u001b[31m17.4 MB/s\u001b[0m eta \u001b[36m0:00:00\u001b[0m\n",
            "\u001b[?25hDownloading pyee-12.0.0-py3-none-any.whl (14 kB)\n",
            "Installing collected packages: pyee, playwright\n",
            "Successfully installed playwright-1.49.1 pyee-12.0.0\n"
          ]
        }
      ]
    },
    {
      "cell_type": "code",
      "source": [
        "!playwright install\n"
      ],
      "metadata": {
        "colab": {
          "base_uri": "https://localhost:8080/"
        },
        "id": "Govp3VjTdGlc",
        "outputId": "8916dd41-dca7-452f-f2e9-d88ba4837a3b"
      },
      "execution_count": null,
      "outputs": [
        {
          "output_type": "stream",
          "name": "stdout",
          "text": [
            "Downloading Chromium 131.0.6778.33 (playwright build v1148)\u001b[2m from https://playwright.azureedge.net/builds/chromium/1148/chromium-linux.zip\u001b[22m\n",
            "\u001b[1G161.3 MiB [] 0% 10.7s\u001b[0K\u001b[1G161.3 MiB [] 0% 5.8s\u001b[0K\u001b[1G161.3 MiB [] 0% 4.3s\u001b[0K\u001b[1G161.3 MiB [] 1% 4.1s\u001b[0K\u001b[1G161.3 MiB [] 1% 3.7s\u001b[0K\u001b[1G161.3 MiB [] 2% 3.8s\u001b[0K\u001b[1G161.3 MiB [] 2% 3.6s\u001b[0K\u001b[1G161.3 MiB [] 3% 3.6s\u001b[0K\u001b[1G161.3 MiB [] 3% 3.4s\u001b[0K\u001b[1G161.3 MiB [] 4% 3.3s\u001b[0K\u001b[1G161.3 MiB [] 4% 3.2s\u001b[0K\u001b[1G161.3 MiB [] 5% 3.0s\u001b[0K\u001b[1G161.3 MiB [] 6% 2.9s\u001b[0K\u001b[1G161.3 MiB [] 6% 3.2s\u001b[0K\u001b[1G161.3 MiB [] 7% 3.3s\u001b[0K\u001b[1G161.3 MiB [] 7% 3.1s\u001b[0K\u001b[1G161.3 MiB [] 8% 3.1s\u001b[0K\u001b[1G161.3 MiB [] 8% 3.0s\u001b[0K\u001b[1G161.3 MiB [] 9% 3.0s\u001b[0K\u001b[1G161.3 MiB [] 9% 3.1s\u001b[0K\u001b[1G161.3 MiB [] 10% 3.1s\u001b[0K\u001b[1G161.3 MiB [] 11% 3.1s\u001b[0K\u001b[1G161.3 MiB [] 11% 3.0s\u001b[0K\u001b[1G161.3 MiB [] 12% 3.0s\u001b[0K\u001b[1G161.3 MiB [] 13% 2.9s\u001b[0K\u001b[1G161.3 MiB [] 13% 2.8s\u001b[0K\u001b[1G161.3 MiB [] 14% 2.9s\u001b[0K\u001b[1G161.3 MiB [] 15% 2.8s\u001b[0K\u001b[1G161.3 MiB [] 16% 2.8s\u001b[0K\u001b[1G161.3 MiB [] 17% 2.7s\u001b[0K\u001b[1G161.3 MiB [] 18% 2.6s\u001b[0K\u001b[1G161.3 MiB [] 19% 2.5s\u001b[0K\u001b[1G161.3 MiB [] 20% 2.4s\u001b[0K\u001b[1G161.3 MiB [] 21% 2.4s\u001b[0K\u001b[1G161.3 MiB [] 22% 2.3s\u001b[0K\u001b[1G161.3 MiB [] 23% 2.2s\u001b[0K\u001b[1G161.3 MiB [] 23% 2.3s\u001b[0K\u001b[1G161.3 MiB [] 24% 2.3s\u001b[0K\u001b[1G161.3 MiB [] 24% 2.2s\u001b[0K\u001b[1G161.3 MiB [] 25% 2.2s\u001b[0K\u001b[1G161.3 MiB [] 26% 2.1s\u001b[0K\u001b[1G161.3 MiB [] 27% 2.1s\u001b[0K\u001b[1G161.3 MiB [] 28% 2.0s\u001b[0K\u001b[1G161.3 MiB [] 29% 2.0s\u001b[0K\u001b[1G161.3 MiB [] 29% 2.1s\u001b[0K\u001b[1G161.3 MiB [] 30% 2.0s\u001b[0K\u001b[1G161.3 MiB [] 31% 2.0s\u001b[0K\u001b[1G161.3 MiB [] 32% 1.9s\u001b[0K\u001b[1G161.3 MiB [] 33% 1.8s\u001b[0K\u001b[1G161.3 MiB [] 34% 1.8s\u001b[0K\u001b[1G161.3 MiB [] 36% 1.7s\u001b[0K\u001b[1G161.3 MiB [] 37% 1.7s\u001b[0K\u001b[1G161.3 MiB [] 38% 1.6s\u001b[0K\u001b[1G161.3 MiB [] 39% 1.6s\u001b[0K\u001b[1G161.3 MiB [] 40% 1.6s\u001b[0K\u001b[1G161.3 MiB [] 41% 1.5s\u001b[0K\u001b[1G161.3 MiB [] 42% 1.5s\u001b[0K\u001b[1G161.3 MiB [] 43% 1.4s\u001b[0K\u001b[1G161.3 MiB [] 44% 1.4s\u001b[0K\u001b[1G161.3 MiB [] 45% 1.4s\u001b[0K\u001b[1G161.3 MiB [] 46% 1.3s\u001b[0K\u001b[1G161.3 MiB [] 47% 1.3s\u001b[0K\u001b[1G161.3 MiB [] 48% 1.3s\u001b[0K\u001b[1G161.3 MiB [] 48% 1.2s\u001b[0K\u001b[1G161.3 MiB [] 49% 1.2s\u001b[0K\u001b[1G161.3 MiB [] 51% 1.2s\u001b[0K\u001b[1G161.3 MiB [] 52% 1.1s\u001b[0K\u001b[1G161.3 MiB [] 53% 1.1s\u001b[0K\u001b[1G161.3 MiB [] 54% 1.0s\u001b[0K\u001b[1G161.3 MiB [] 55% 1.0s\u001b[0K\u001b[1G161.3 MiB [] 57% 1.0s\u001b[0K\u001b[1G161.3 MiB [] 58% 0.9s\u001b[0K\u001b[1G161.3 MiB [] 59% 0.9s\u001b[0K\u001b[1G161.3 MiB [] 60% 0.9s\u001b[0K\u001b[1G161.3 MiB [] 61% 0.8s\u001b[0K\u001b[1G161.3 MiB [] 62% 0.8s\u001b[0K\u001b[1G161.3 MiB [] 63% 0.8s\u001b[0K\u001b[1G161.3 MiB [] 64% 0.8s\u001b[0K\u001b[1G161.3 MiB [] 65% 0.8s\u001b[0K\u001b[1G161.3 MiB [] 66% 0.7s\u001b[0K\u001b[1G161.3 MiB [] 67% 0.7s\u001b[0K\u001b[1G161.3 MiB [] 68% 0.7s\u001b[0K\u001b[1G161.3 MiB [] 69% 0.7s\u001b[0K\u001b[1G161.3 MiB [] 70% 0.7s\u001b[0K\u001b[1G161.3 MiB [] 71% 0.7s\u001b[0K\u001b[1G161.3 MiB [] 71% 0.6s\u001b[0K\u001b[1G161.3 MiB [] 72% 0.6s\u001b[0K\u001b[1G161.3 MiB [] 73% 0.6s\u001b[0K\u001b[1G161.3 MiB [] 74% 0.6s\u001b[0K\u001b[1G161.3 MiB [] 75% 0.6s\u001b[0K\u001b[1G161.3 MiB [] 76% 0.5s\u001b[0K\u001b[1G161.3 MiB [] 77% 0.5s\u001b[0K\u001b[1G161.3 MiB [] 78% 0.5s\u001b[0K\u001b[1G161.3 MiB [] 79% 0.5s\u001b[0K\u001b[1G161.3 MiB [] 80% 0.4s\u001b[0K\u001b[1G161.3 MiB [] 81% 0.4s\u001b[0K\u001b[1G161.3 MiB [] 82% 0.4s\u001b[0K\u001b[1G161.3 MiB [] 83% 0.4s\u001b[0K\u001b[1G161.3 MiB [] 84% 0.3s\u001b[0K\u001b[1G161.3 MiB [] 85% 0.3s\u001b[0K\u001b[1G161.3 MiB [] 86% 0.3s\u001b[0K\u001b[1G161.3 MiB [] 87% 0.3s\u001b[0K\u001b[1G161.3 MiB [] 88% 0.3s\u001b[0K\u001b[1G161.3 MiB [] 88% 0.2s\u001b[0K\u001b[1G161.3 MiB [] 89% 0.2s\u001b[0K\u001b[1G161.3 MiB [] 90% 0.2s\u001b[0K\u001b[1G161.3 MiB [] 91% 0.2s\u001b[0K\u001b[1G161.3 MiB [] 92% 0.2s\u001b[0K\u001b[1G161.3 MiB [] 93% 0.1s\u001b[0K\u001b[1G161.3 MiB [] 94% 0.1s\u001b[0K\u001b[1G161.3 MiB [] 95% 0.1s\u001b[0K\u001b[1G161.3 MiB [] 96% 0.1s\u001b[0K\u001b[1G161.3 MiB [] 97% 0.1s\u001b[0K\u001b[1G161.3 MiB [] 97% 0.0s\u001b[0K\u001b[1G161.3 MiB [] 98% 0.0s\u001b[0K\u001b[1G161.3 MiB [] 99% 0.0s\u001b[0K\u001b[1G161.3 MiB [] 100% 0.0s\u001b[0K\n",
            "Chromium 131.0.6778.33 (playwright build v1148) downloaded to /root/.cache/ms-playwright/chromium-1148\n",
            "Downloading Chromium Headless Shell 131.0.6778.33 (playwright build v1148)\u001b[2m from https://playwright.azureedge.net/builds/chromium/1148/chromium-headless-shell-linux.zip\u001b[22m\n",
            "\u001b[1G100.9 MiB [] 0% 0.0s\u001b[0K\u001b[1G100.9 MiB [] 0% 4.0s\u001b[0K\u001b[1G100.9 MiB [] 1% 2.0s\u001b[0K\u001b[1G100.9 MiB [] 2% 2.1s\u001b[0K\u001b[1G100.9 MiB [] 3% 1.8s\u001b[0K\u001b[1G100.9 MiB [] 4% 1.7s\u001b[0K\u001b[1G100.9 MiB [] 5% 1.6s\u001b[0K\u001b[1G100.9 MiB [] 7% 1.4s\u001b[0K\u001b[1G100.9 MiB [] 9% 1.3s\u001b[0K\u001b[1G100.9 MiB [] 10% 1.4s\u001b[0K\u001b[1G100.9 MiB [] 11% 1.4s\u001b[0K\u001b[1G100.9 MiB [] 13% 1.3s\u001b[0K\u001b[1G100.9 MiB [] 14% 1.3s\u001b[0K\u001b[1G100.9 MiB [] 15% 1.3s\u001b[0K\u001b[1G100.9 MiB [] 16% 1.3s\u001b[0K\u001b[1G100.9 MiB [] 17% 1.2s\u001b[0K\u001b[1G100.9 MiB [] 18% 1.2s\u001b[0K\u001b[1G100.9 MiB [] 20% 1.1s\u001b[0K\u001b[1G100.9 MiB [] 22% 1.1s\u001b[0K\u001b[1G100.9 MiB [] 23% 1.1s\u001b[0K\u001b[1G100.9 MiB [] 25% 1.1s\u001b[0K\u001b[1G100.9 MiB [] 26% 1.0s\u001b[0K\u001b[1G100.9 MiB [] 28% 1.0s\u001b[0K\u001b[1G100.9 MiB [] 30% 0.9s\u001b[0K\u001b[1G100.9 MiB [] 32% 0.9s\u001b[0K\u001b[1G100.9 MiB [] 33% 0.9s\u001b[0K\u001b[1G100.9 MiB [] 35% 0.8s\u001b[0K\u001b[1G100.9 MiB [] 37% 0.8s\u001b[0K\u001b[1G100.9 MiB [] 39% 0.8s\u001b[0K\u001b[1G100.9 MiB [] 40% 0.8s\u001b[0K\u001b[1G100.9 MiB [] 42% 0.7s\u001b[0K\u001b[1G100.9 MiB [] 44% 0.7s\u001b[0K\u001b[1G100.9 MiB [] 46% 0.6s\u001b[0K\u001b[1G100.9 MiB [] 48% 0.6s\u001b[0K\u001b[1G100.9 MiB [] 50% 0.6s\u001b[0K\u001b[1G100.9 MiB [] 52% 0.6s\u001b[0K\u001b[1G100.9 MiB [] 55% 0.5s\u001b[0K\u001b[1G100.9 MiB [] 57% 0.5s\u001b[0K\u001b[1G100.9 MiB [] 59% 0.4s\u001b[0K\u001b[1G100.9 MiB [] 62% 0.4s\u001b[0K\u001b[1G100.9 MiB [] 64% 0.4s\u001b[0K\u001b[1G100.9 MiB [] 66% 0.4s\u001b[0K\u001b[1G100.9 MiB [] 68% 0.3s\u001b[0K\u001b[1G100.9 MiB [] 70% 0.3s\u001b[0K\u001b[1G100.9 MiB [] 72% 0.3s\u001b[0K\u001b[1G100.9 MiB [] 74% 0.3s\u001b[0K\u001b[1G100.9 MiB [] 76% 0.2s\u001b[0K\u001b[1G100.9 MiB [] 79% 0.2s\u001b[0K\u001b[1G100.9 MiB [] 81% 0.2s\u001b[0K\u001b[1G100.9 MiB [] 83% 0.2s\u001b[0K\u001b[1G100.9 MiB [] 85% 0.2s\u001b[0K\u001b[1G100.9 MiB [] 87% 0.1s\u001b[0K\u001b[1G100.9 MiB [] 89% 0.1s\u001b[0K\u001b[1G100.9 MiB [] 92% 0.1s\u001b[0K\u001b[1G100.9 MiB [] 93% 0.1s\u001b[0K\u001b[1G100.9 MiB [] 97% 0.0s\u001b[0K\u001b[1G100.9 MiB [] 99% 0.0s\u001b[0K\u001b[1G100.9 MiB [] 100% 0.0s\u001b[0K\n",
            "Chromium Headless Shell 131.0.6778.33 (playwright build v1148) downloaded to /root/.cache/ms-playwright/chromium_headless_shell-1148\n",
            "Downloading Firefox 132.0 (playwright build v1466)\u001b[2m from https://playwright.azureedge.net/builds/firefox/1466/firefox-ubuntu-22.04.zip\u001b[22m\n",
            "\u001b[1G87.6 MiB [] 0% 0.0s\u001b[0K\u001b[1G87.6 MiB [] 0% 2.1s\u001b[0K\u001b[1G87.6 MiB [] 1% 1.6s\u001b[0K\u001b[1G87.6 MiB [] 3% 1.3s\u001b[0K\u001b[1G87.6 MiB [] 5% 1.2s\u001b[0K\u001b[1G87.6 MiB [] 7% 1.1s\u001b[0K\u001b[1G87.6 MiB [] 9% 1.0s\u001b[0K\u001b[1G87.6 MiB [] 10% 0.9s\u001b[0K\u001b[1G87.6 MiB [] 12% 1.0s\u001b[0K\u001b[1G87.6 MiB [] 13% 1.0s\u001b[0K\u001b[1G87.6 MiB [] 14% 1.0s\u001b[0K\u001b[1G87.6 MiB [] 16% 0.9s\u001b[0K\u001b[1G87.6 MiB [] 17% 0.9s\u001b[0K\u001b[1G87.6 MiB [] 19% 0.9s\u001b[0K\u001b[1G87.6 MiB [] 21% 0.9s\u001b[0K\u001b[1G87.6 MiB [] 23% 0.8s\u001b[0K\u001b[1G87.6 MiB [] 25% 0.8s\u001b[0K\u001b[1G87.6 MiB [] 26% 0.8s\u001b[0K\u001b[1G87.6 MiB [] 28% 0.7s\u001b[0K\u001b[1G87.6 MiB [] 31% 0.7s\u001b[0K\u001b[1G87.6 MiB [] 32% 0.7s\u001b[0K\u001b[1G87.6 MiB [] 34% 0.7s\u001b[0K\u001b[1G87.6 MiB [] 36% 0.6s\u001b[0K\u001b[1G87.6 MiB [] 37% 0.6s\u001b[0K\u001b[1G87.6 MiB [] 39% 0.6s\u001b[0K\u001b[1G87.6 MiB [] 41% 0.6s\u001b[0K\u001b[1G87.6 MiB [] 42% 0.6s\u001b[0K\u001b[1G87.6 MiB [] 43% 0.6s\u001b[0K\u001b[1G87.6 MiB [] 45% 0.6s\u001b[0K\u001b[1G87.6 MiB [] 46% 0.6s\u001b[0K\u001b[1G87.6 MiB [] 48% 0.6s\u001b[0K\u001b[1G87.6 MiB [] 49% 0.5s\u001b[0K\u001b[1G87.6 MiB [] 51% 0.5s\u001b[0K\u001b[1G87.6 MiB [] 53% 0.5s\u001b[0K\u001b[1G87.6 MiB [] 55% 0.5s\u001b[0K\u001b[1G87.6 MiB [] 57% 0.4s\u001b[0K\u001b[1G87.6 MiB [] 59% 0.4s\u001b[0K\u001b[1G87.6 MiB [] 62% 0.4s\u001b[0K\u001b[1G87.6 MiB [] 64% 0.4s\u001b[0K\u001b[1G87.6 MiB [] 65% 0.4s\u001b[0K\u001b[1G87.6 MiB [] 67% 0.3s\u001b[0K\u001b[1G87.6 MiB [] 68% 0.3s\u001b[0K\u001b[1G87.6 MiB [] 69% 0.3s\u001b[0K\u001b[1G87.6 MiB [] 70% 0.3s\u001b[0K\u001b[1G87.6 MiB [] 72% 0.3s\u001b[0K\u001b[1G87.6 MiB [] 73% 0.3s\u001b[0K\u001b[1G87.6 MiB [] 75% 0.3s\u001b[0K\u001b[1G87.6 MiB [] 77% 0.2s\u001b[0K\u001b[1G87.6 MiB [] 79% 0.2s\u001b[0K\u001b[1G87.6 MiB [] 80% 0.2s\u001b[0K\u001b[1G87.6 MiB [] 82% 0.2s\u001b[0K\u001b[1G87.6 MiB [] 83% 0.2s\u001b[0K\u001b[1G87.6 MiB [] 84% 0.2s\u001b[0K\u001b[1G87.6 MiB [] 86% 0.1s\u001b[0K\u001b[1G87.6 MiB [] 87% 0.1s\u001b[0K\u001b[1G87.6 MiB [] 88% 0.1s\u001b[0K\u001b[1G87.6 MiB [] 90% 0.1s\u001b[0K\u001b[1G87.6 MiB [] 91% 0.1s\u001b[0K\u001b[1G87.6 MiB [] 93% 0.1s\u001b[0K\u001b[1G87.6 MiB [] 94% 0.1s\u001b[0K\u001b[1G87.6 MiB [] 96% 0.0s\u001b[0K\u001b[1G87.6 MiB [] 97% 0.0s\u001b[0K\u001b[1G87.6 MiB [] 99% 0.0s\u001b[0K\u001b[1G87.6 MiB [] 100% 0.0s\u001b[0K\n",
            "Firefox 132.0 (playwright build v1466) downloaded to /root/.cache/ms-playwright/firefox-1466\n",
            "Downloading Webkit 18.2 (playwright build v2104)\u001b[2m from https://playwright.azureedge.net/builds/webkit/2104/webkit-ubuntu-22.04.zip\u001b[22m\n",
            "\u001b[1G95.5 MiB [] 0% 0.0s\u001b[0K\u001b[1G95.5 MiB [] 0% 3.0s\u001b[0K\u001b[1G95.5 MiB [] 1% 1.8s\u001b[0K\u001b[1G95.5 MiB [] 2% 1.6s\u001b[0K\u001b[1G95.5 MiB [] 3% 1.6s\u001b[0K\u001b[1G95.5 MiB [] 5% 1.5s\u001b[0K\u001b[1G95.5 MiB [] 6% 1.4s\u001b[0K\u001b[1G95.5 MiB [] 8% 1.3s\u001b[0K\u001b[1G95.5 MiB [] 9% 1.3s\u001b[0K\u001b[1G95.5 MiB [] 10% 1.2s\u001b[0K\u001b[1G95.5 MiB [] 10% 1.3s\u001b[0K\u001b[1G95.5 MiB [] 12% 1.3s\u001b[0K\u001b[1G95.5 MiB [] 14% 1.3s\u001b[0K\u001b[1G95.5 MiB [] 16% 1.2s\u001b[0K\u001b[1G95.5 MiB [] 18% 1.2s\u001b[0K\u001b[1G95.5 MiB [] 19% 1.1s\u001b[0K\u001b[1G95.5 MiB [] 21% 1.1s\u001b[0K\u001b[1G95.5 MiB [] 23% 1.0s\u001b[0K\u001b[1G95.5 MiB [] 24% 1.0s\u001b[0K\u001b[1G95.5 MiB [] 26% 1.0s\u001b[0K\u001b[1G95.5 MiB [] 27% 1.0s\u001b[0K\u001b[1G95.5 MiB [] 29% 0.9s\u001b[0K\u001b[1G95.5 MiB [] 30% 0.9s\u001b[0K\u001b[1G95.5 MiB [] 32% 0.9s\u001b[0K\u001b[1G95.5 MiB [] 34% 0.8s\u001b[0K\u001b[1G95.5 MiB [] 36% 0.8s\u001b[0K\u001b[1G95.5 MiB [] 37% 0.8s\u001b[0K\u001b[1G95.5 MiB [] 39% 0.8s\u001b[0K\u001b[1G95.5 MiB [] 40% 0.8s\u001b[0K\u001b[1G95.5 MiB [] 43% 0.7s\u001b[0K\u001b[1G95.5 MiB [] 45% 0.7s\u001b[0K\u001b[1G95.5 MiB [] 47% 0.6s\u001b[0K\u001b[1G95.5 MiB [] 49% 0.6s\u001b[0K\u001b[1G95.5 MiB [] 52% 0.6s\u001b[0K\u001b[1G95.5 MiB [] 54% 0.6s\u001b[0K\u001b[1G95.5 MiB [] 55% 0.5s\u001b[0K\u001b[1G95.5 MiB [] 57% 0.5s\u001b[0K\u001b[1G95.5 MiB [] 60% 0.5s\u001b[0K\u001b[1G95.5 MiB [] 62% 0.4s\u001b[0K\u001b[1G95.5 MiB [] 65% 0.4s\u001b[0K\u001b[1G95.5 MiB [] 67% 0.4s\u001b[0K\u001b[1G95.5 MiB [] 70% 0.3s\u001b[0K\u001b[1G95.5 MiB [] 72% 0.3s\u001b[0K\u001b[1G95.5 MiB [] 75% 0.3s\u001b[0K\u001b[1G95.5 MiB [] 77% 0.2s\u001b[0K\u001b[1G95.5 MiB [] 79% 0.2s\u001b[0K\u001b[1G95.5 MiB [] 81% 0.2s\u001b[0K\u001b[1G95.5 MiB [] 83% 0.2s\u001b[0K\u001b[1G95.5 MiB [] 85% 0.2s\u001b[0K\u001b[1G95.5 MiB [] 87% 0.1s\u001b[0K\u001b[1G95.5 MiB [] 90% 0.1s\u001b[0K\u001b[1G95.5 MiB [] 93% 0.1s\u001b[0K\u001b[1G95.5 MiB [] 95% 0.0s\u001b[0K\u001b[1G95.5 MiB [] 98% 0.0s\u001b[0K\u001b[1G95.5 MiB [] 100% 0.0s\u001b[0K\n",
            "Webkit 18.2 (playwright build v2104) downloaded to /root/.cache/ms-playwright/webkit-2104\n",
            "Downloading FFMPEG playwright build v1010\u001b[2m from https://playwright.azureedge.net/builds/ffmpeg/1010/ffmpeg-linux.zip\u001b[22m\n",
            "\u001b[1G2.3 MiB [] 0% 0.0s\u001b[0K\u001b[1G2.3 MiB [] 45% 0.0s\u001b[0K\u001b[1G2.3 MiB [] 100% 0.0s\u001b[0K\n",
            "FFMPEG playwright build v1010 downloaded to /root/.cache/ms-playwright/ffmpeg-1010\n",
            "Playwright Host validation warning: \n",
            "╔══════════════════════════════════════════════════════╗\n",
            "║ Host system is missing dependencies to run browsers. ║\n",
            "║ Missing libraries:                                   ║\n",
            "║     libwoff2dec.so.1.0.2                             ║\n",
            "║     libgstgl-1.0.so.0                                ║\n",
            "║     libgstcodecparsers-1.0.so.0                      ║\n",
            "║     libavif.so.13                                    ║\n",
            "║     libharfbuzz-icu.so.0                             ║\n",
            "║     libenchant-2.so.2                                ║\n",
            "║     libsecret-1.so.0                                 ║\n",
            "║     libhyphen.so.0                                   ║\n",
            "║     libmanette-0.2.so.0                              ║\n",
            "╚══════════════════════════════════════════════════════╝\n",
            "    at validateDependenciesLinux (/usr/local/lib/python3.11/dist-packages/playwright/driver/package/lib/server/registry/dependencies.js:216:9)\n",
            "\u001b[90m    at process.processTicksAndRejections (node:internal/process/task_queues:105:5)\u001b[39m\n",
            "    at async Registry._validateHostRequirements (/usr/local/lib/python3.11/dist-packages/playwright/driver/package/lib/server/registry/index.js:753:43)\n",
            "    at async Registry._validateHostRequirementsForExecutableIfNeeded (/usr/local/lib/python3.11/dist-packages/playwright/driver/package/lib/server/registry/index.js:851:7)\n",
            "    at async Registry.validateHostRequirementsForExecutablesIfNeeded (/usr/local/lib/python3.11/dist-packages/playwright/driver/package/lib/server/registry/index.js:840:43)\n",
            "    at async t.<anonymous> (/usr/local/lib/python3.11/dist-packages/playwright/driver/package/lib/cli/program.js:137:7)\n"
          ]
        }
      ]
    },
    {
      "cell_type": "code",
      "source": [
        "import asyncio\n",
        "import nest_asyncio\n",
        "from playwright.async_api import async_playwright\n",
        "import json\n",
        "from bs4 import BeautifulSoup\n",
        "import os\n",
        "\n",
        "# Jupyter Notebook에서 실행 가능하도록 설정\n",
        "nest_asyncio.apply()\n",
        "\n",
        "async def fetch_jnu_scholarship_notices():\n",
        "    base_url = \"https://www.jnu.ac.kr/WebApp/web/HOM/COM/Board/board.aspx?boardID=5&bbsMode=list&cate=8&page={}\"\n",
        "    detail_base_url = \"https://www.jnu.ac.kr/WebApp/web/HOM/COM/Board/board.aspx?boardID=5&bbsMode=view&page=1&key={}&cate=8\"\n",
        "    notices = []\n",
        "    page_numbers = range(1, 2)  # 5개만 테스트하기 위해 한 페이지만 크롤링\n",
        "\n",
        "    async with async_playwright() as p:\n",
        "        browser = await p.chromium.launch(headless=True)\n",
        "        page = await browser.new_page()\n",
        "\n",
        "        for page_num in page_numbers:\n",
        "            url = base_url.format(page_num)\n",
        "            await page.goto(url)\n",
        "            soup = BeautifulSoup(await page.content(), \"html.parser\")\n",
        "\n",
        "            # ✅ 공지사항 제목 및 key 값 추출\n",
        "            notice_items = soup.select(\"td.title a\")\n",
        "            notice_dates = soup.select(\"td.under:nth-child(3)\")  # 날짜 정보가 있는 td\n",
        "\n",
        "            if not notice_items:\n",
        "                break\n",
        "\n",
        "            for item, date_tag in zip(notice_items[:5], notice_dates[:5]):  # 5개만 가져오기\n",
        "                title = item.text.strip()\n",
        "                date_str = date_tag.text.strip()\n",
        "                detail_href = item[\"href\"]\n",
        "\n",
        "                # ✅ key 값 추출\n",
        "                if \"key=\" in detail_href:\n",
        "                    key = detail_href.split(\"key=\")[-1].split(\"&\")[0]\n",
        "                else:\n",
        "                    continue  # key 값이 없으면 무시\n",
        "\n",
        "                # ✅ 최종 본문 URL 생성\n",
        "                final_url = detail_base_url.format(key)\n",
        "\n",
        "                # ✅ 본문 페이지 방문\n",
        "                await page.goto(final_url)\n",
        "                final_soup = BeautifulSoup(await page.content(), \"html.parser\")\n",
        "\n",
        "                # 🔥 본문 내용 가져오기 (`div.con` 내부)\n",
        "                content_div = final_soup.find(\"div\", class_=\"con\")\n",
        "                content = content_div.get_text(strip=True) if content_div else \"본문 없음\"\n",
        "\n",
        "                # \"장학\" 포함된 공지만 저장\n",
        "                if \"장학\" in title or \"장학\" in content:\n",
        "                    notices.append({\"title\": title, \"url\": final_url, \"date\": date_str, \"content\": content})\n",
        "\n",
        "        await browser.close()\n",
        "\n",
        "    return notices\n",
        "\n",
        "# 크롤링 실행\n",
        "notices_data = asyncio.run(fetch_jnu_scholarship_notices())\n",
        "print(f\"총 {len(notices_data)}개의 장학 공지사항을 크롤링했습니다.\\n\")\n",
        "\n",
        "# ✅ 크롤링된 데이터 출력 (최대 5개 미리보기)\n",
        "for i, notice in enumerate(notices_data, 1):\n",
        "    content_preview = notice['content'][:300]  # 본문 앞 300자만 출력\n",
        "    print(f\"🔹 [{i}] {notice['title']} ({notice['date']})\")\n",
        "    print(f\"   👉 {notice['url']}\")\n",
        "    print(f\"   📄 {content_preview}...\\n\")\n"
      ],
      "metadata": {
        "colab": {
          "base_uri": "https://localhost:8080/"
        },
        "id": "YN3XWr_dcv_W",
        "outputId": "a77b886a-8681-46a8-ba62-bbf4f66c8cbf"
      },
      "execution_count": null,
      "outputs": [
        {
          "output_type": "stream",
          "name": "stdout",
          "text": [
            "총 5개의 장학 공지사항을 크롤링했습니다.\n",
            "\n",
            "🔹 [1] [장학안내] 2025학년도 주거안정장학금 신청 안내 (학생과)\n",
            "   👉 https://www.jnu.ac.kr/WebApp/web/HOM/COM/Board/board.aspx?boardID=5&bbsMode=view&page=1&key=65084&cate=8\n",
            "   📄 <2025학년도 주거안정장학금 신청 안내>가.신청대상:재학생*,재입학생,신입생,편입생*재학생은 직전학기12학점 이상 이수자로C학점(70/100점)이상을 획득한 자나.지원대상:부모 주소지가 소속 대학 기준으로 통학이 어려운원거리 지역*에 해당하는미혼기초·차상위(한국장학재단 당해 학기 학자금 지원 구간 산정)대학생※단,청년 주거비 지원 사업(청년 주거급여 분리 지급,청년 월세 특별지원 등)수혜자는 제외*｢대도시권 광역교통 관리에 관한 특별법｣등을 바탕으로 원거리 통학 기준 마련,한국장학재단 홈페이지에서 지원불가 지역 확인 가능다.지원내...\n",
            "\n",
            "🔹 [2] [장학안내] 2025학년도 주거안정장학금 신청 안내 (학생과)\n",
            "   👉 https://www.jnu.ac.kr/WebApp/web/HOM/COM/Board/board.aspx?boardID=5&bbsMode=view&page=1&key=65083&cate=8\n",
            "   📄 <2025학년도 주거안정장학금 신청 안내>가.신청대상:재학생*,재입학생,신입생,편입생*재학생은 직전학기12학점 이상 이수자로C학점(70/100점)이상을 획득한 자나.지원대상:부모 주소지가 소속 대학 기준으로 통학이 어려운원거리 지역*에 해당하는미혼기초·차상위대학생※단,청년 주거비 지원 사업(청년 주거급여 분리 지급,청년 월세 특별지원 등)수혜자는 제외*｢대도시권 광역교통 관리에 관한 특별법｣등을 바탕으로 원거리 통학 기준 마련,한국장학재단 홈페이지에서 지원불가 지역 확인 가능다.지원내용:월 최대20만원,연간 최대240만원*방학 중은...\n",
            "\n",
            "🔹 [3] [장학안내] [세아해암학술장학재단] 제4기 커리어챌린지 장학생 모집 안내 (학생과)\n",
            "   👉 https://www.jnu.ac.kr/WebApp/web/HOM/COM/Board/board.aspx?boardID=5&bbsMode=view&page=1&key=65081&cate=8\n",
            "   📄 ...\n",
            "\n",
            "🔹 [4] [장학안내] 2025학년도 1학기 국가장학금 2차 신청 안내 (학생과)\n",
            "   👉 https://www.jnu.ac.kr/WebApp/web/HOM/COM/Board/board.aspx?boardID=5&bbsMode=view&page=1&key=65044&cate=8\n",
            "   📄 <2025학년도 1학기 국가장학금 2차 신청 안내>가. 신청대상: 재학생*, 복학생, 재입학생, 신입생, 편입생* 재학생은 국가장학금 1차 신청 원칙(2차 신청 시 재학 중 2회에 한하여 2차 신청으로 수혜 가능)나.신청기간:′25. 2. 4.(화) ~ 3. 18.(화) 18:00- 서류제출 및 가구원 정보제공 동의 기간: ′25. 2. 4.(화) ~ 3. 25.(화) 18:00※ 주말․공휴일 포함 24시간 신청 가능, 마지막 날은 18시에 마감※ (중요) 여수캠퍼스 학생: “전남대학교(본교)” 선택 후 본인 소속학과로 신청(전남대...\n",
            "\n",
            "🔹 [5] [장학안내] 2024년 하반기 발생 울산광역시 대학(원)생 학자금대출 이자... (학생과)\n",
            "   👉 https://www.jnu.ac.kr/WebApp/web/HOM/COM/Board/board.aspx?boardID=5&bbsMode=view&page=1&key=65012&cate=8\n",
            "   📄 <2024년 하반기 발생 울산광역시 대학(원)생 학자금대출 이자지원사업>○지원대상:공고일('25. 1. 14.)기준본인 혹은 직계존속의 주소가 울산인 대학교(원)재학(휴학)생○지원범위: 2017년 이후 한국장학재단 신규대출분의2024년도 하반기 발생이자○신청기간:2025. 1. 14.(화) 09:00 ~ 2. 20.(목) 18:00○접수방법:울산광역시 홈페이지 접속 후 신청(시 홈페이지> (하단)분야별 자주찾는메뉴>행정> 학자금대출 이자지원)...\n",
            "\n"
          ]
        }
      ]
    },
    {
      "cell_type": "code",
      "execution_count": null,
      "metadata": {
        "colab": {
          "base_uri": "https://localhost:8080/"
        },
        "id": "4ovYBoF_aWYJ",
        "outputId": "56ea1659-637d-4a17-fbd7-4736aa63f3cb"
      },
      "outputs": [
        {
          "output_type": "stream",
          "name": "stdout",
          "text": [
            "총 400개의 장학 공지사항을 크롤링했습니다.\n",
            "\n",
            "🔹 [1] [장학안내] 2025학년도 주거안정장학금 신청 안내 (학생과)\n",
            "   👉 https://www.jnu.ac.kr/WebApp/web/HOM/COM/Board/board.aspx?boardID=5&bbsMode=view&page=1&key=65084&cate=8\n",
            "   📄 <2025학년도 주거안정장학금 신청 안내>가.신청대상:재학생*,재입학생,신입생,편입생*재학생은 직전학기12학점 이상 이수자로C학점(70/100점)이상을 획득한 자나.지원대상:부모 주소지가 소속 대학 기준으로 통학이 어려운원거리 지역*에 해당하는미혼기초·차상위(한국장학재단 당해 학기 학자금 지원 구간 산정)대학생※단,청년 주거비 지원 사업(청년 주거급여 분리 지급,청년 월세 특별지원 등)수혜자는 제외*｢대도시권 광역교통 관리에 관한 특별법｣등을 바탕으로 원거리 통학 기준 마련,한국장학재단 홈페이지에서 지원불가 지역 확인 가능다.지원내...\n",
            "\n",
            "🔹 [2] [장학안내] 2025학년도 주거안정장학금 신청 안내 (학생과)\n",
            "   👉 https://www.jnu.ac.kr/WebApp/web/HOM/COM/Board/board.aspx?boardID=5&bbsMode=view&page=1&key=65083&cate=8\n",
            "   📄 <2025학년도 주거안정장학금 신청 안내>가.신청대상:재학생*,재입학생,신입생,편입생*재학생은 직전학기12학점 이상 이수자로C학점(70/100점)이상을 획득한 자나.지원대상:부모 주소지가 소속 대학 기준으로 통학이 어려운원거리 지역*에 해당하는미혼기초·차상위대학생※단,청년 주거비 지원 사업(청년 주거급여 분리 지급,청년 월세 특별지원 등)수혜자는 제외*｢대도시권 광역교통 관리에 관한 특별법｣등을 바탕으로 원거리 통학 기준 마련,한국장학재단 홈페이지에서 지원불가 지역 확인 가능다.지원내용:월 최대20만원,연간 최대240만원*방학 중은...\n",
            "\n",
            "🔹 [3] [장학안내] [세아해암학술장학재단] 제4기 커리어챌린지 장학생 모집 안내 (학생과)\n",
            "   👉 https://www.jnu.ac.kr/WebApp/web/HOM/COM/Board/board.aspx?boardID=5&bbsMode=view&page=1&key=65081&cate=8\n",
            "   📄 ...\n",
            "\n",
            "🔹 [4] [장학안내] 2025학년도 1학기 국가장학금 2차 신청 안내 (학생과)\n",
            "   👉 https://www.jnu.ac.kr/WebApp/web/HOM/COM/Board/board.aspx?boardID=5&bbsMode=view&page=1&key=65044&cate=8\n",
            "   📄 <2025학년도 1학기 국가장학금 2차 신청 안내>가. 신청대상: 재학생*, 복학생, 재입학생, 신입생, 편입생* 재학생은 국가장학금 1차 신청 원칙(2차 신청 시 재학 중 2회에 한하여 2차 신청으로 수혜 가능)나.신청기간:′25. 2. 4.(화) ~ 3. 18.(화) 18:00- 서류제출 및 가구원 정보제공 동의 기간: ′25. 2. 4.(화) ~ 3. 25.(화) 18:00※ 주말․공휴일 포함 24시간 신청 가능, 마지막 날은 18시에 마감※ (중요) 여수캠퍼스 학생: “전남대학교(본교)” 선택 후 본인 소속학과로 신청(전남대...\n",
            "\n",
            "🔹 [5] [장학안내] 2024년 하반기 발생 울산광역시 대학(원)생 학자금대출 이자... (학생과)\n",
            "   👉 https://www.jnu.ac.kr/WebApp/web/HOM/COM/Board/board.aspx?boardID=5&bbsMode=view&page=1&key=65012&cate=8\n",
            "   📄 <2024년 하반기 발생 울산광역시 대학(원)생 학자금대출 이자지원사업>○지원대상:공고일('25. 1. 14.)기준본인 혹은 직계존속의 주소가 울산인 대학교(원)재학(휴학)생○지원범위: 2017년 이후 한국장학재단 신규대출분의2024년도 하반기 발생이자○신청기간:2025. 1. 14.(화) 09:00 ~ 2. 20.(목) 18:00○접수방법:울산광역시 홈페이지 접속 후 신청(시 홈페이지> (하단)분야별 자주찾는메뉴>행정> 학자금대출 이자지원)...\n",
            "\n"
          ]
        }
      ],
      "source": [
        "import asyncio\n",
        "import nest_asyncio\n",
        "from playwright.async_api import async_playwright\n",
        "import json\n",
        "from bs4 import BeautifulSoup\n",
        "import os\n",
        "\n",
        "# Jupyter Notebook에서 실행 가능하도록 설정\n",
        "nest_asyncio.apply()\n",
        "\n",
        "async def fetch_jnu_scholarship_notices():\n",
        "    base_url = \"https://www.jnu.ac.kr/WebApp/web/HOM/COM/Board/board.aspx?boardID=5&bbsMode=list&cate=8&page={}\"\n",
        "    detail_base_url = \"https://www.jnu.ac.kr/WebApp/web/HOM/COM/Board/board.aspx?boardID=5&bbsMode=view&page=1&key={}&cate=8\"\n",
        "    notices = []\n",
        "    page_numbers = range(1, 21)  # 200개 크롤링 (1~20 페이지, 페이지당 약 10개)\n",
        "\n",
        "    async with async_playwright() as p:\n",
        "        browser = await p.chromium.launch(headless=True)\n",
        "        page = await browser.new_page()\n",
        "\n",
        "        for page_num in page_numbers:\n",
        "            url = base_url.format(page_num)\n",
        "            await page.goto(url)\n",
        "            soup = BeautifulSoup(await page.content(), \"html.parser\")\n",
        "\n",
        "            # ✅ 공지사항 제목 및 key 값 추출\n",
        "            notice_items = soup.select(\"td.title a\")\n",
        "            notice_dates = soup.select(\"td.under:nth-child(3)\")  # 날짜 정보가 있는 td\n",
        "\n",
        "            if not notice_items:\n",
        "                break\n",
        "\n",
        "            for item, date_tag in zip(notice_items, notice_dates):\n",
        "                title = item.text.strip()\n",
        "                date_str = date_tag.text.strip()\n",
        "                detail_href = item[\"href\"]\n",
        "\n",
        "                # ✅ key 값 추출\n",
        "                if \"key=\" in detail_href:\n",
        "                    key = detail_href.split(\"key=\")[-1].split(\"&\")[0]\n",
        "                else:\n",
        "                    continue  # key 값이 없으면 무시\n",
        "\n",
        "                # ✅ 최종 본문 URL 생성\n",
        "                final_url = detail_base_url.format(key)\n",
        "\n",
        "                # ✅ 본문 페이지 방문\n",
        "                await page.goto(final_url)\n",
        "                final_soup = BeautifulSoup(await page.content(), \"html.parser\")\n",
        "\n",
        "                # 🔥 본문 내용 가져오기 (`div.con` 내부)\n",
        "                content_div = final_soup.find(\"div\", class_=\"con\")\n",
        "                content = content_div.get_text(strip=True) if content_div else \"본문 없음\"\n",
        "\n",
        "                # \"장학\" 포함된 공지만 저장\n",
        "                if \"장학\" in title or \"장학\" in content:\n",
        "                    notices.append({\"title\": title, \"url\": final_url, \"date\": date_str, \"content\": content})\n",
        "\n",
        "        await browser.close()\n",
        "\n",
        "    # JSON 파일 저장\n",
        "    save_path = \"jnu_scholarship_200.json\"\n",
        "    if os.path.exists(save_path):\n",
        "        os.remove(save_path)  # 기존 파일 삭제\n",
        "    with open(save_path, \"w\", encoding=\"utf-8\") as f:\n",
        "        json.dump(notices, f, ensure_ascii=False, indent=4)\n",
        "\n",
        "    return notices\n",
        "\n",
        "# 크롤링 실행\n",
        "notices_data = asyncio.run(fetch_jnu_scholarship_notices())\n",
        "print(f\"총 {len(notices_data)}개의 장학 공지사항을 크롤링했습니다.\\n\")\n",
        "\n",
        "# ✅ 크롤링된 데이터 출력 (최대 5개 미리보기)\n",
        "for i, notice in enumerate(notices_data[:5], 1):\n",
        "    content_preview = notice['content'][:300]  # 본문 앞 300자만 출력\n",
        "    print(f\"🔹 [{i}] {notice['title']} ({notice['date']})\")\n",
        "    print(f\"   👉 {notice['url']}\")\n",
        "    print(f\"   📄 {content_preview}...\\n\")\n"
      ]
    },
    {
      "cell_type": "code",
      "source": [
        "import os\n",
        "from google.colab import files\n",
        "\n",
        "save_path = \"/content/jnu_scholarship_200.json\"\n",
        "\n",
        "# ✅ 기존 파일 삭제 후 다시 저장\n",
        "if os.path.exists(save_path):\n",
        "    os.remove(save_path)\n",
        "    print(\"🗑️ 기존 JSON 파일 삭제 완료\")\n",
        "\n",
        "# ✅ 최신 JSON 데이터 저장\n",
        "with open(save_path, \"w\", encoding=\"utf-8\") as f:\n",
        "    json.dump(notices_data, f, ensure_ascii=False, indent=4)\n",
        "\n",
        "# 파일 다운로드\n",
        "files.download(save_path)\n",
        "\n",
        "print(f\"✅ JSON 파일이 저장되었고 다운로드할 수 있습니다: {save_path}\")\n"
      ],
      "metadata": {
        "colab": {
          "base_uri": "https://localhost:8080/",
          "height": 54
        },
        "id": "rLILdQ9mea_h",
        "outputId": "966b5530-312e-4c55-eb31-97f9f1d294c7"
      },
      "execution_count": null,
      "outputs": [
        {
          "output_type": "stream",
          "name": "stdout",
          "text": [
            "🗑️ 기존 JSON 파일 삭제 완료\n"
          ]
        },
        {
          "output_type": "display_data",
          "data": {
            "text/plain": [
              "<IPython.core.display.Javascript object>"
            ],
            "application/javascript": [
              "\n",
              "    async function download(id, filename, size) {\n",
              "      if (!google.colab.kernel.accessAllowed) {\n",
              "        return;\n",
              "      }\n",
              "      const div = document.createElement('div');\n",
              "      const label = document.createElement('label');\n",
              "      label.textContent = `Downloading \"${filename}\": `;\n",
              "      div.appendChild(label);\n",
              "      const progress = document.createElement('progress');\n",
              "      progress.max = size;\n",
              "      div.appendChild(progress);\n",
              "      document.body.appendChild(div);\n",
              "\n",
              "      const buffers = [];\n",
              "      let downloaded = 0;\n",
              "\n",
              "      const channel = await google.colab.kernel.comms.open(id);\n",
              "      // Send a message to notify the kernel that we're ready.\n",
              "      channel.send({})\n",
              "\n",
              "      for await (const message of channel.messages) {\n",
              "        // Send a message to notify the kernel that we're ready.\n",
              "        channel.send({})\n",
              "        if (message.buffers) {\n",
              "          for (const buffer of message.buffers) {\n",
              "            buffers.push(buffer);\n",
              "            downloaded += buffer.byteLength;\n",
              "            progress.value = downloaded;\n",
              "          }\n",
              "        }\n",
              "      }\n",
              "      const blob = new Blob(buffers, {type: 'application/binary'});\n",
              "      const a = document.createElement('a');\n",
              "      a.href = window.URL.createObjectURL(blob);\n",
              "      a.download = filename;\n",
              "      div.appendChild(a);\n",
              "      a.click();\n",
              "      div.remove();\n",
              "    }\n",
              "  "
            ]
          },
          "metadata": {}
        },
        {
          "output_type": "display_data",
          "data": {
            "text/plain": [
              "<IPython.core.display.Javascript object>"
            ],
            "application/javascript": [
              "download(\"download_ee3aa430-4512-4361-82db-f1e97ba5256d\", \"jnu_scholarship_200.json\", 537201)"
            ]
          },
          "metadata": {}
        },
        {
          "output_type": "stream",
          "name": "stdout",
          "text": [
            "✅ JSON 파일이 저장되었고 다운로드할 수 있습니다: /content/jnu_scholarship_200.json\n"
          ]
        }
      ]
    },
    {
      "cell_type": "code",
      "source": [],
      "metadata": {
        "id": "PjM42tO_hwPv"
      },
      "execution_count": null,
      "outputs": []
    }
  ]
}